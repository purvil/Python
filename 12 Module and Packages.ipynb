{
 "cells": [
  {
   "cell_type": "markdown",
   "metadata": {},
   "source": [
    "# Modules and Packages"
   ]
  },
  {
   "cell_type": "markdown",
   "metadata": {},
   "source": [
    "* Module is a file which has definition to use it as script or interactive session.\n",
    "* Collection of related function are grouped together in one file which is called module.\n",
    "* To use it we have to import it.\n",
    "* Module is a file containing python definition and statements for example `module_name.py`\n",
    "* within module, module name appear as global variable `__name__`. It evalueates to `__main__` or actual module name depending on how the enclosing module is being used.\n",
    "    Typical use is `if __name__ == __main__:`\n",
    "* `__name__` variable in python scripts is automatically set to the name of the module. If the module is being run from the command line `__name__` will set to `__main__` by default. Useful to check whether script is running from command line or not.\n",
    "* A Python package is a collection of separate modules collected under a single name that share metadata, such as documentation, licensing, and version numbering."
   ]
  },
  {
   "cell_type": "code",
   "execution_count": 1,
   "metadata": {},
   "outputs": [],
   "source": [
    "import myModule"
   ]
  },
  {
   "cell_type": "code",
   "execution_count": 2,
   "metadata": {
    "scrolled": true
   },
   "outputs": [
    {
     "name": "stdout",
     "output_type": "stream",
     "text": [
      "***\n",
      "5\n"
     ]
    }
   ],
   "source": [
    "myModule.xyz(5)"
   ]
  },
  {
   "cell_type": "code",
   "execution_count": 3,
   "metadata": {},
   "outputs": [
    {
     "data": {
      "text/plain": [
       "'myModule'"
      ]
     },
     "execution_count": 3,
     "metadata": {},
     "output_type": "execute_result"
    }
   ],
   "source": [
    "myModule.__name__"
   ]
  },
  {
   "cell_type": "markdown",
   "metadata": {},
   "source": [
    "*  We can assign local name to function of module."
   ]
  },
  {
   "cell_type": "code",
   "execution_count": 4,
   "metadata": {},
   "outputs": [],
   "source": [
    "abc = myModule.xyz"
   ]
  },
  {
   "cell_type": "code",
   "execution_count": 5,
   "metadata": {},
   "outputs": [
    {
     "name": "stdout",
     "output_type": "stream",
     "text": [
      "***\n",
      "5\n"
     ]
    }
   ],
   "source": [
    "abc(5)"
   ]
  },
  {
   "cell_type": "markdown",
   "metadata": {},
   "source": [
    "* below technique will not introduce module name in local symbol table."
   ]
  },
  {
   "cell_type": "code",
   "execution_count": 6,
   "metadata": {},
   "outputs": [],
   "source": [
    "from myModule import xyz, pqr"
   ]
  },
  {
   "cell_type": "code",
   "execution_count": 7,
   "metadata": {},
   "outputs": [
    {
     "name": "stdout",
     "output_type": "stream",
     "text": [
      "---\n",
      "50\n"
     ]
    }
   ],
   "source": [
    "pqr(50)"
   ]
  },
  {
   "cell_type": "code",
   "execution_count": 8,
   "metadata": {},
   "outputs": [],
   "source": [
    "from myModule import * # It imports all name except starting from _(underscore). BAD PRACTICE"
   ]
  },
  {
   "cell_type": "code",
   "execution_count": 9,
   "metadata": {},
   "outputs": [
    {
     "name": "stdout",
     "output_type": "stream",
     "text": [
      "---\n",
      "50\n"
     ]
    }
   ],
   "source": [
    "pqr(50)"
   ]
  },
  {
   "cell_type": "code",
   "execution_count": 10,
   "metadata": {},
   "outputs": [
    {
     "data": {
      "text/plain": [
       "2.0"
      ]
     },
     "execution_count": 10,
     "metadata": {},
     "output_type": "execute_result"
    }
   ],
   "source": [
    "from math import sqrt as sq\n",
    "sq(4)"
   ]
  },
  {
   "cell_type": "markdown",
   "metadata": {},
   "source": [
    "* Each module has its own private symbol table. Which is used as global symbol; table by each function defined in the module.\n",
    "* To access global variable of module (BAD PRACTICE)\n",
    "```\n",
    "modName.globalName\n",
    "```\n",
    "* When module named 'xyz' imported, interpreter search for built-in module with that name, if not found search for file xyz.py"
   ]
  },
  {
   "cell_type": "markdown",
   "metadata": {},
   "source": [
    "### Standard Module\n",
    "* command line arguments are stored in `sys` module's `argv` attribute as list"
   ]
  },
  {
   "cell_type": "code",
   "execution_count": 11,
   "metadata": {},
   "outputs": [],
   "source": [
    "import sys"
   ]
  },
  {
   "cell_type": "markdown",
   "metadata": {},
   "source": [
    "* `ps1` and `ps2` define string used as primary and secondary prompt"
   ]
  },
  {
   "cell_type": "code",
   "execution_count": 12,
   "metadata": {},
   "outputs": [
    {
     "data": {
      "text/plain": [
       "'In : '"
      ]
     },
     "execution_count": 12,
     "metadata": {},
     "output_type": "execute_result"
    }
   ],
   "source": [
    "sys.ps1"
   ]
  },
  {
   "cell_type": "code",
   "execution_count": 13,
   "metadata": {},
   "outputs": [
    {
     "data": {
      "text/plain": [
       "'...: '"
      ]
     },
     "execution_count": 13,
     "metadata": {},
     "output_type": "execute_result"
    }
   ],
   "source": [
    "sys.ps2"
   ]
  },
  {
   "cell_type": "markdown",
   "metadata": {},
   "source": [
    "* To change prompt,\n",
    "```\n",
    "sys.ps1 = 'ppp'\n",
    "```"
   ]
  },
  {
   "cell_type": "code",
   "execution_count": 14,
   "metadata": {},
   "outputs": [
    {
     "data": {
      "text/plain": [
       "['C:\\\\Users\\\\davep\\\\MY NOTESSSSSSSSSSSSSSSSSSSSSSSSSSSSSSSSSSSSSSSSSSSSSSS\\\\Python',\n",
       " 'C:\\\\Users\\\\davep\\\\Anaconda3\\\\python37.zip',\n",
       " 'C:\\\\Users\\\\davep\\\\Anaconda3\\\\DLLs',\n",
       " 'C:\\\\Users\\\\davep\\\\Anaconda3\\\\lib',\n",
       " 'C:\\\\Users\\\\davep\\\\Anaconda3',\n",
       " '',\n",
       " 'C:\\\\Users\\\\davep\\\\Anaconda3\\\\lib\\\\site-packages',\n",
       " 'C:\\\\Users\\\\davep\\\\Anaconda3\\\\lib\\\\site-packages\\\\win32',\n",
       " 'C:\\\\Users\\\\davep\\\\Anaconda3\\\\lib\\\\site-packages\\\\win32\\\\lib',\n",
       " 'C:\\\\Users\\\\davep\\\\Anaconda3\\\\lib\\\\site-packages\\\\Pythonwin',\n",
       " 'C:\\\\Users\\\\davep\\\\Anaconda3\\\\lib\\\\site-packages\\\\IPython\\\\extensions',\n",
       " 'C:\\\\Users\\\\davep\\\\.ipython']"
      ]
     },
     "execution_count": 14,
     "metadata": {},
     "output_type": "execute_result"
    }
   ],
   "source": [
    "sys.path # list of strings that determined interpreter's search path from module"
   ]
  },
  {
   "cell_type": "markdown",
   "metadata": {},
   "source": [
    "* we are running `python demo.py one two three`\n",
    "```\n",
    "import sys\n",
    "print(sys.argv)\n",
    "['demo.py', 'one', 'two', 'three']\n",
    "```"
   ]
  },
  {
   "cell_type": "markdown",
   "metadata": {},
   "source": [
    "* sys module also has attributes for `stdin`, `stdout`, `stderr`, `stderr` is useful for emitting warnings and error message.\n",
    "* `sys.exit()` is most direct way to terminate script.\n",
    "```\n",
    "sys.stderr.write('Error happen')\n",
    "```"
   ]
  },
  {
   "cell_type": "markdown",
   "metadata": {},
   "source": [
    "### `dir()`"
   ]
  },
  {
   "cell_type": "code",
   "execution_count": 15,
   "metadata": {},
   "outputs": [
    {
     "data": {
      "text/plain": [
       "['__builtins__',\n",
       " '__cached__',\n",
       " '__doc__',\n",
       " '__file__',\n",
       " '__loader__',\n",
       " '__name__',\n",
       " '__package__',\n",
       " '__spec__',\n",
       " 'pqr',\n",
       " 'xyz']"
      ]
     },
     "execution_count": 15,
     "metadata": {},
     "output_type": "execute_result"
    }
   ],
   "source": [
    "dir(myModule) # list out names which module has defined\n",
    "# __file__ is the name of file from which the module was laoded."
   ]
  },
  {
   "cell_type": "markdown",
   "metadata": {},
   "source": [
    "* `dir()` does not list built in function and variable. They are in standard module `builtin`."
   ]
  },
  {
   "cell_type": "code",
   "execution_count": 16,
   "metadata": {},
   "outputs": [],
   "source": [
    "import builtins"
   ]
  },
  {
   "cell_type": "code",
   "execution_count": 19,
   "metadata": {},
   "outputs": [
    {
     "data": {
      "text/plain": [
       "['ArithmeticError',\n",
       " 'AssertionError',\n",
       " 'AttributeError',\n",
       " 'BaseException',\n",
       " 'BlockingIOError',\n",
       " 'BrokenPipeError',\n",
       " 'BufferError',\n",
       " 'BytesWarning',\n",
       " 'ChildProcessError',\n",
       " 'ConnectionAbortedError',\n",
       " 'ConnectionError',\n",
       " 'ConnectionRefusedError',\n",
       " 'ConnectionResetError',\n",
       " 'DeprecationWarning',\n",
       " 'EOFError',\n",
       " 'Ellipsis',\n",
       " 'EnvironmentError',\n",
       " 'Exception',\n",
       " 'False',\n",
       " 'FileExistsError',\n",
       " 'FileNotFoundError',\n",
       " 'FloatingPointError',\n",
       " 'FutureWarning',\n",
       " 'GeneratorExit',\n",
       " 'IOError',\n",
       " 'ImportError',\n",
       " 'ImportWarning',\n",
       " 'IndentationError',\n",
       " 'IndexError',\n",
       " 'InterruptedError',\n",
       " 'IsADirectoryError',\n",
       " 'KeyError',\n",
       " 'KeyboardInterrupt',\n",
       " 'LookupError',\n",
       " 'MemoryError',\n",
       " 'ModuleNotFoundError',\n",
       " 'NameError',\n",
       " 'None',\n",
       " 'NotADirectoryError',\n",
       " 'NotImplemented',\n",
       " 'NotImplementedError',\n",
       " 'OSError',\n",
       " 'OverflowError',\n",
       " 'PendingDeprecationWarning',\n",
       " 'PermissionError',\n",
       " 'ProcessLookupError',\n",
       " 'RecursionError',\n",
       " 'ReferenceError',\n",
       " 'ResourceWarning',\n",
       " 'RuntimeError',\n",
       " 'RuntimeWarning',\n",
       " 'StopAsyncIteration',\n",
       " 'StopIteration',\n",
       " 'SyntaxError',\n",
       " 'SyntaxWarning',\n",
       " 'SystemError',\n",
       " 'SystemExit',\n",
       " 'TabError',\n",
       " 'TimeoutError',\n",
       " 'True',\n",
       " 'TypeError',\n",
       " 'UnboundLocalError',\n",
       " 'UnicodeDecodeError',\n",
       " 'UnicodeEncodeError',\n",
       " 'UnicodeError',\n",
       " 'UnicodeTranslateError',\n",
       " 'UnicodeWarning',\n",
       " 'UserWarning',\n",
       " 'ValueError',\n",
       " 'Warning',\n",
       " 'WindowsError',\n",
       " 'ZeroDivisionError',\n",
       " '__IPYTHON__',\n",
       " '__build_class__',\n",
       " '__debug__',\n",
       " '__doc__',\n",
       " '__import__',\n",
       " '__loader__',\n",
       " '__name__',\n",
       " '__package__',\n",
       " '__spec__',\n",
       " 'abs',\n",
       " 'all',\n",
       " 'any',\n",
       " 'ascii',\n",
       " 'bin',\n",
       " 'bool',\n",
       " 'breakpoint',\n",
       " 'bytearray',\n",
       " 'bytes',\n",
       " 'callable',\n",
       " 'chr',\n",
       " 'classmethod',\n",
       " 'compile',\n",
       " 'complex',\n",
       " 'copyright',\n",
       " 'credits',\n",
       " 'delattr',\n",
       " 'dict',\n",
       " 'dir',\n",
       " 'display',\n",
       " 'divmod',\n",
       " 'enumerate',\n",
       " 'eval',\n",
       " 'exec',\n",
       " 'filter',\n",
       " 'float',\n",
       " 'format',\n",
       " 'frozenset',\n",
       " 'get_ipython',\n",
       " 'getattr',\n",
       " 'globals',\n",
       " 'hasattr',\n",
       " 'hash',\n",
       " 'help',\n",
       " 'hex',\n",
       " 'id',\n",
       " 'input',\n",
       " 'int',\n",
       " 'isinstance',\n",
       " 'issubclass',\n",
       " 'iter',\n",
       " 'len',\n",
       " 'license',\n",
       " 'list',\n",
       " 'locals',\n",
       " 'map',\n",
       " 'max',\n",
       " 'memoryview',\n",
       " 'min',\n",
       " 'next',\n",
       " 'object',\n",
       " 'oct',\n",
       " 'open',\n",
       " 'ord',\n",
       " 'pow',\n",
       " 'print',\n",
       " 'property',\n",
       " 'range',\n",
       " 'repr',\n",
       " 'reversed',\n",
       " 'round',\n",
       " 'set',\n",
       " 'setattr',\n",
       " 'slice',\n",
       " 'sorted',\n",
       " 'staticmethod',\n",
       " 'str',\n",
       " 'sum',\n",
       " 'super',\n",
       " 'tuple',\n",
       " 'type',\n",
       " 'vars',\n",
       " 'zip']"
      ]
     },
     "execution_count": 19,
     "metadata": {},
     "output_type": "execute_result"
    }
   ],
   "source": [
    "dir(builtins)"
   ]
  },
  {
   "cell_type": "markdown",
   "metadata": {},
   "source": [
    "### Packages\n"
   ]
  },
  {
   "cell_type": "markdown",
   "metadata": {},
   "source": [
    "* Way to structure python's module namespace by using dotted module names.\n",
    "* Ex. NumPy, Matplotlib, Scikit Learn\n",
    "* `A.B` designates that A is package and B is submodule\n",
    "\n",
    "```\n",
    "sound/\n",
    "    formats/\n",
    "           wave.py\n",
    "           mp3.py\n",
    "           au.py\n",
    "```"
   ]
  },
  {
   "cell_type": "markdown",
   "metadata": {},
   "source": [
    "```\n",
    "import sound.formats.wave\n",
    "\n",
    "or \n",
    "\n",
    "from sound.formats import wave\n",
    "```\n",
    "* Both above syntax will make submodule `wave` available without package prefix\n",
    "\n",
    "```\n",
    "from sound.formats.wave import func_name\n",
    "```\n",
    "* It will make only `func_name` directly available.\n",
    "\n",
    "\n",
    "```\n",
    "from package import item\n",
    "```\n",
    "* item can be function, variable, class or submodule. Tests whether item defines in package if not assumes as module and if not error\n",
    "\n",
    "```\n",
    "import item.subitem.subsubitem0\n",
    "```\n",
    "* item and subitem both must be package. subsubitem can be module or package but NO function,class, variable"
   ]
  },
  {
   "cell_type": "markdown",
   "metadata": {},
   "source": [
    "#### import * from package\n",
    "\n",
    "```\n",
    "from sound.formats import *\n",
    "```\n",
    "\n",
    "* `__init__.py` defines list `__all__` which has list of modules which should be imported when `import *` gets called\n",
    "* If `__all__` is NOT defined then no module will be loaded and when actual module is used it will be loaded."
   ]
  },
  {
   "cell_type": "markdown",
   "metadata": {},
   "source": [
    "* Module doc strings should be placed at begining of the module before any statement."
   ]
  },
  {
   "cell_type": "markdown",
   "metadata": {},
   "source": [
    "### Shebang\n",
    "* `#!/usr/bin/env python3`\n",
    "* Used to identify which interpreter should be run to interpret program. \n",
    "* Must be first line."
   ]
  },
  {
   "cell_type": "markdown",
   "metadata": {},
   "source": [
    "### How Python can find imported module\n",
    "* Python checks `path` attribute of `sys` module. Which is known as `sys.path`. It is just list of directories where python has to search for modules.\n",
    "* If module not found in any path, error will be raised."
   ]
  },
  {
   "cell_type": "code",
   "execution_count": 18,
   "metadata": {},
   "outputs": [
    {
     "data": {
      "text/plain": [
       "['C:\\\\Users\\\\davep\\\\MY NOTESSSSSSSSSSSSSSSSSSSSSSSSSSSSSSSSSSSSSSSSSSSSSSS\\\\Python',\n",
       " 'C:\\\\Users\\\\davep\\\\Anaconda3\\\\python37.zip',\n",
       " 'C:\\\\Users\\\\davep\\\\Anaconda3\\\\DLLs',\n",
       " 'C:\\\\Users\\\\davep\\\\Anaconda3\\\\lib',\n",
       " 'C:\\\\Users\\\\davep\\\\Anaconda3',\n",
       " '',\n",
       " 'C:\\\\Users\\\\davep\\\\Anaconda3\\\\lib\\\\site-packages',\n",
       " 'C:\\\\Users\\\\davep\\\\Anaconda3\\\\lib\\\\site-packages\\\\win32',\n",
       " 'C:\\\\Users\\\\davep\\\\Anaconda3\\\\lib\\\\site-packages\\\\win32\\\\lib',\n",
       " 'C:\\\\Users\\\\davep\\\\Anaconda3\\\\lib\\\\site-packages\\\\Pythonwin',\n",
       " 'C:\\\\Users\\\\davep\\\\Anaconda3\\\\lib\\\\site-packages\\\\IPython\\\\extensions',\n",
       " 'C:\\\\Users\\\\davep\\\\.ipython']"
      ]
     },
     "execution_count": 18,
     "metadata": {},
     "output_type": "execute_result"
    }
   ],
   "source": [
    "import sys\n",
    "sys.path"
   ]
  },
  {
   "cell_type": "markdown",
   "metadata": {},
   "source": [
    "* First entry is empty string, showing current directory.\n",
    "* If you want to store module at some place which is no in `sys.path`, just append that path using `sys.path.append('path/to/module')`"
   ]
  },
  {
   "cell_type": "markdown",
   "metadata": {},
   "source": [
    "* `PYTHONPATH` environment variable is list of path, which are added to `sys.path` when python start.\n",
    "    - `export PYTHONPATH=path\\to\\module` Linux\n",
    "    - `set PYTHONPATH=path\\to\\module` Windows"
   ]
  },
  {
   "cell_type": "markdown",
   "metadata": {},
   "source": [
    "### How package is created\n",
    "* As we know to create module we just create normal python file in directory which is already in `sys.path`.\n",
    "* To create package, we create package's root directory in directory which is already in `sys.path`.\n",
    "* In created directory, create file called `__init__.py`. Which is also called package init file.\n",
    "* `__init__.py` will be executed every time we import package.\n",
    "* Same thing has to be done for all sub packages.\n",
    "* `__all__` is list of attribute name imported, when we run `from module import *`. If not specified, it will import all public names.\n",
    "* We can specify `__all__` in `__init__.py` file as list of strings."
   ]
  },
  {
   "cell_type": "markdown",
   "metadata": {},
   "source": [
    "### Namespace Packages\n",
    "* Packages which are split across several directories.\n",
    "* Useful for splitting large package in multiple parts.\n",
    "* It does not have `__init__.py` file.\n",
    "* But how python find them?\n",
    "    - I wan to load `foo` package.\n",
    "    - Python scans all entires in `sys.path`\n",
    "    - If matching directory with `__init__.py` found, a normal package is loaded.\n",
    "    - If `foo.py` is found, then it is loaded.\n",
    "    - Otherwise, all matching directories in sys.path are considered part of the namespace package."
   ]
  },
  {
   "cell_type": "markdown",
   "metadata": {},
   "source": [
    "### Executable Directories\n",
    "* Lets you specify main entry point, which will run when package is executed by python.\n",
    "* You can create `__main__.py` module to achieve this.\n",
    "![Basic package layout](images/package_structure.jpg)"
   ]
  },
  {
   "cell_type": "markdown",
   "metadata": {},
   "source": [
    "### Singleton\n",
    "* Modules as singlton. Modules are only executed once, when first imported. We can gaurantee that, singleton will initialized only once.\n",
    "![singleton](images/singleton_as_module.jpg)"
   ]
  },
  {
   "cell_type": "markdown",
   "metadata": {},
   "source": [
    "### `globals()`, `locals()`, `reload()`\n",
    "* If locals() is called from within a function, it will return all the names that can be accessed locally from that function\n",
    "* If `globals()` is called it will return all the name that can be accessed globally from that function.\n",
    "* Return type of both is dictionary.\n",
    "* When a module is imported into a script, the code in the top level portion of module is executed only once.\n",
    "    - If you want to execute top level code in a module again, use the reload(). It imports previously imported module again.\n",
    "    ```\n",
    "    impoer some_lib\n",
    "    import importlib\n",
    "    \n",
    "    importlib.reload(some_lib)\n",
    "    ```\n",
    "    - `dreload` is deep recursiv reloading of module."
   ]
  }
 ],
 "metadata": {
  "kernelspec": {
   "display_name": "Python 3",
   "language": "python",
   "name": "python3"
  },
  "language_info": {
   "codemirror_mode": {
    "name": "ipython",
    "version": 3
   },
   "file_extension": ".py",
   "mimetype": "text/x-python",
   "name": "python",
   "nbconvert_exporter": "python",
   "pygments_lexer": "ipython3",
   "version": "3.7.1"
  }
 },
 "nbformat": 4,
 "nbformat_minor": 2
}
