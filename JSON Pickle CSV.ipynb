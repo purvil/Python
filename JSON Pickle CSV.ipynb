{
 "cells": [
  {
   "cell_type": "markdown",
   "metadata": {},
   "source": [
    "# JSON\n",
    "* JavaScript object notation\n",
    "* Lightweight data interchange format for sharing data\n",
    "* JSON data is written as name/value pairs. A name/value pair consist of a field name, followed by colon, followed by value. Ex \"name\":\"purvil\"\n",
    "* JSON value must be string, number, an object(JSON object), an array, a boolean, null\n",
    "* When it is stored to file, it is saved as string.\n",
    "\n",
    "## Reading JSON `loads`\n",
    "* Converting JSON into python value. "
   ]
  },
  {
   "cell_type": "code",
   "execution_count": 36,
   "metadata": {},
   "outputs": [],
   "source": [
    "import json"
   ]
  },
  {
   "cell_type": "code",
   "execution_count": 37,
   "metadata": {},
   "outputs": [],
   "source": [
    "jsonData = '''{ \"office\": \n",
    "    {\"medical\": [\n",
    "      { \"room-number\": 100,\n",
    "        \"use\": \"reception\",\n",
    "        \"sq-ft\": 50,\n",
    "        \"price\": 75\n",
    "      },\n",
    "      { \"room-number\": 101,\n",
    "        \"use\": \"waiting\",\n",
    "        \"sq-ft\": 250,\n",
    "        \"price\": 75\n",
    "      },\n",
    "      { \"room-number\": 102,\n",
    "        \"use\": \"examination\",\n",
    "        \"sq-ft\": 125,\n",
    "        \"price\": 150\n",
    "      },\n",
    "      { \"room-number\": 103,\n",
    "        \"use\": \"examination\",\n",
    "        \"sq-ft\": 125,\n",
    "        \"price\": 150\n",
    "      },\n",
    "      { \"room-number\": 104,\n",
    "        \"use\": \"office\",\n",
    "        \"sq-ft\": 150,\n",
    "        \"price\": 100\n",
    "      }\n",
    "    ]},\n",
    "    \"parking\": {\n",
    "      \"location\": \"premium\",\n",
    "      \"style\": \"covered\",\n",
    "      \"price\": 750\n",
    "    }\n",
    "} '''"
   ]
  },
  {
   "cell_type": "code",
   "execution_count": 38,
   "metadata": {},
   "outputs": [],
   "source": [
    "jsonToPython = json.loads(jsonData)"
   ]
  },
  {
   "cell_type": "code",
   "execution_count": 39,
   "metadata": {},
   "outputs": [
    {
     "data": {
      "text/plain": [
       "dict"
      ]
     },
     "execution_count": 39,
     "metadata": {},
     "output_type": "execute_result"
    }
   ],
   "source": [
    "type(jsonToPython)"
   ]
  },
  {
   "cell_type": "code",
   "execution_count": 40,
   "metadata": {},
   "outputs": [
    {
     "data": {
      "text/plain": [
       "{'office': {'medical': [{'room-number': 100,\n",
       "    'use': 'reception',\n",
       "    'sq-ft': 50,\n",
       "    'price': 75},\n",
       "   {'room-number': 101, 'use': 'waiting', 'sq-ft': 250, 'price': 75},\n",
       "   {'room-number': 102, 'use': 'examination', 'sq-ft': 125, 'price': 150},\n",
       "   {'room-number': 103, 'use': 'examination', 'sq-ft': 125, 'price': 150},\n",
       "   {'room-number': 104, 'use': 'office', 'sq-ft': 150, 'price': 100}]},\n",
       " 'parking': {'location': 'premium', 'style': 'covered', 'price': 750}}"
      ]
     },
     "execution_count": 40,
     "metadata": {},
     "output_type": "execute_result"
    }
   ],
   "source": [
    "jsonToPython"
   ]
  },
  {
   "cell_type": "markdown",
   "metadata": {},
   "source": [
    "### Access components"
   ]
  },
  {
   "cell_type": "code",
   "execution_count": 41,
   "metadata": {},
   "outputs": [
    {
     "data": {
      "text/plain": [
       "{'medical': [{'room-number': 100,\n",
       "   'use': 'reception',\n",
       "   'sq-ft': 50,\n",
       "   'price': 75},\n",
       "  {'room-number': 101, 'use': 'waiting', 'sq-ft': 250, 'price': 75},\n",
       "  {'room-number': 102, 'use': 'examination', 'sq-ft': 125, 'price': 150},\n",
       "  {'room-number': 103, 'use': 'examination', 'sq-ft': 125, 'price': 150},\n",
       "  {'room-number': 104, 'use': 'office', 'sq-ft': 150, 'price': 100}]}"
      ]
     },
     "execution_count": 41,
     "metadata": {},
     "output_type": "execute_result"
    }
   ],
   "source": [
    "jsonToPython['office']"
   ]
  },
  {
   "cell_type": "code",
   "execution_count": 42,
   "metadata": {},
   "outputs": [
    {
     "data": {
      "text/plain": [
       "[{'room-number': 100, 'use': 'reception', 'sq-ft': 50, 'price': 75},\n",
       " {'room-number': 101, 'use': 'waiting', 'sq-ft': 250, 'price': 75},\n",
       " {'room-number': 102, 'use': 'examination', 'sq-ft': 125, 'price': 150},\n",
       " {'room-number': 103, 'use': 'examination', 'sq-ft': 125, 'price': 150},\n",
       " {'room-number': 104, 'use': 'office', 'sq-ft': 150, 'price': 100}]"
      ]
     },
     "execution_count": 42,
     "metadata": {},
     "output_type": "execute_result"
    }
   ],
   "source": [
    "jsonToPython['office']['medical']"
   ]
  },
  {
   "cell_type": "code",
   "execution_count": 43,
   "metadata": {},
   "outputs": [
    {
     "data": {
      "text/plain": [
       "{'location': 'premium', 'style': 'covered', 'price': 750}"
      ]
     },
     "execution_count": 43,
     "metadata": {},
     "output_type": "execute_result"
    }
   ],
   "source": [
    "jsonToPython['parking']"
   ]
  },
  {
   "cell_type": "code",
   "execution_count": 44,
   "metadata": {},
   "outputs": [
    {
     "data": {
      "text/plain": [
       "{'room-number': 100, 'use': 'reception', 'sq-ft': 50, 'price': 75}"
      ]
     },
     "execution_count": 44,
     "metadata": {},
     "output_type": "execute_result"
    }
   ],
   "source": [
    "jsonToPython['office']['medical'][0]"
   ]
  },
  {
   "cell_type": "code",
   "execution_count": 45,
   "metadata": {},
   "outputs": [
    {
     "data": {
      "text/plain": [
       "75"
      ]
     },
     "execution_count": 45,
     "metadata": {},
     "output_type": "execute_result"
    }
   ],
   "source": [
    "jsonToPython['office']['medical'][0]['price']"
   ]
  },
  {
   "cell_type": "markdown",
   "metadata": {},
   "source": [
    "### Writing JSON `dumps`\n",
    "* Converting python dictionary to JSON"
   ]
  },
  {
   "cell_type": "code",
   "execution_count": 46,
   "metadata": {},
   "outputs": [],
   "source": [
    "pythonDict = {'name':'Bob', 'aage':44, 'isEmployed':True}"
   ]
  },
  {
   "cell_type": "code",
   "execution_count": 47,
   "metadata": {},
   "outputs": [],
   "source": [
    "dictToJson = json.dumps(pythonDict)"
   ]
  },
  {
   "cell_type": "code",
   "execution_count": 48,
   "metadata": {},
   "outputs": [
    {
     "data": {
      "text/plain": [
       "'{\"name\": \"Bob\", \"aage\": 44, \"isEmployed\": true}'"
      ]
     },
     "execution_count": 48,
     "metadata": {},
     "output_type": "execute_result"
    }
   ],
   "source": [
    "dictToJson"
   ]
  },
  {
   "cell_type": "markdown",
   "metadata": {},
   "source": [
    "* JSON can only save python objects: List, Dict, boolean, numbers, character string and none"
   ]
  },
  {
   "cell_type": "code",
   "execution_count": 65,
   "metadata": {},
   "outputs": [],
   "source": [
    "class Employee(object):\n",
    "    def __init__(self, name, salary, zipcode):\n",
    "        self.name = name\n",
    "        self.salary = salary\n",
    "        self.zip = zipcode"
   ]
  },
  {
   "cell_type": "code",
   "execution_count": 66,
   "metadata": {},
   "outputs": [],
   "source": [
    "purvil = Employee(\"Purvil\", 150000, 92126)"
   ]
  },
  {
   "cell_type": "code",
   "execution_count": 67,
   "metadata": {},
   "outputs": [],
   "source": [
    "# jsonPurvil = json.dumps(purvil)\n",
    "# we can not convert generic python object to JSON"
   ]
  },
  {
   "cell_type": "markdown",
   "metadata": {},
   "source": [
    "* `We have to convert python object to dictionary and store it in JSON. This works for simple objects only\n",
    "* To convert use,\n",
    "    - `object.__dict__`"
   ]
  },
  {
   "cell_type": "code",
   "execution_count": 68,
   "metadata": {},
   "outputs": [],
   "source": [
    "jsonPurvil = json.dumps(purvil, default=lambda x: x.__dict__)"
   ]
  },
  {
   "cell_type": "code",
   "execution_count": 69,
   "metadata": {},
   "outputs": [
    {
     "data": {
      "text/plain": [
       "'{\"name\": \"Purvil\", \"salary\": 150000, \"zip\": 92126}'"
      ]
     },
     "execution_count": 69,
     "metadata": {},
     "output_type": "execute_result"
    }
   ],
   "source": [
    "jsonPurvil"
   ]
  },
  {
   "cell_type": "markdown",
   "metadata": {},
   "source": [
    "#### Sorting"
   ]
  },
  {
   "cell_type": "code",
   "execution_count": 70,
   "metadata": {},
   "outputs": [
    {
     "name": "stdout",
     "output_type": "stream",
     "text": [
      "{\"a\": 0, \"b\": 0, \"c\": 0}\n"
     ]
    }
   ],
   "source": [
    "print(json.dumps({\"c\":0, \"b\":0, \"a\":0}, sort_keys=True))"
   ]
  },
  {
   "cell_type": "code",
   "execution_count": 71,
   "metadata": {},
   "outputs": [
    {
     "name": "stdout",
     "output_type": "stream",
     "text": [
      "{\n",
      "    \"a\": 0,\n",
      "    \"b\": 0,\n",
      "    \"c\": 0\n",
      "}\n"
     ]
    }
   ],
   "source": [
    "print(json.dumps({\"c\":0, \"b\":0, \"a\":0}, sort_keys=True, indent=4))"
   ]
  },
  {
   "cell_type": "markdown",
   "metadata": {},
   "source": [
    "#### Compact encoding\n",
    "* Instead of `, ` use `,`\n",
    "* Instead of `: ` use `:`"
   ]
  },
  {
   "cell_type": "code",
   "execution_count": 72,
   "metadata": {},
   "outputs": [
    {
     "name": "stdout",
     "output_type": "stream",
     "text": [
      "[1,2,3,{\"4\":5,\"6\":7}]\n"
     ]
    }
   ],
   "source": [
    "print(json.dumps([1,2,3,{'4':5, \"6\":7}], separators=(',', ':')))"
   ]
  },
  {
   "cell_type": "markdown",
   "metadata": {},
   "source": [
    "### Object_hook in loads\n",
    "* `object_hook` is an optional function that will be called with the result of any object literal decoded(a dict). The return value of object_hook will be used instead of the dictionary."
   ]
  },
  {
   "cell_type": "code",
   "execution_count": 78,
   "metadata": {},
   "outputs": [],
   "source": [
    "# Object JSON decoding\n",
    "def as_complex(dct):\n",
    "    if '__complex__' in dct:\n",
    "        return complex(dct['real'], dct['imag'])\n",
    "    return dct"
   ]
  },
  {
   "cell_type": "code",
   "execution_count": 79,
   "metadata": {},
   "outputs": [],
   "source": [
    "var1 = json.loads('{\"__complex__\":true, \"real\": 1, \"imag\":2}', object_hook=as_complex)"
   ]
  },
  {
   "cell_type": "code",
   "execution_count": 80,
   "metadata": {},
   "outputs": [
    {
     "data": {
      "text/plain": [
       "(1+2j)"
      ]
     },
     "execution_count": 80,
     "metadata": {},
     "output_type": "execute_result"
    }
   ],
   "source": [
    "var1"
   ]
  },
  {
   "cell_type": "code",
   "execution_count": 81,
   "metadata": {},
   "outputs": [
    {
     "data": {
      "text/plain": [
       "complex"
      ]
     },
     "execution_count": 81,
     "metadata": {},
     "output_type": "execute_result"
    }
   ],
   "source": [
    "type(var1)"
   ]
  },
  {
   "cell_type": "markdown",
   "metadata": {},
   "source": [
    "### `parse_float` `parse_int`"
   ]
  },
  {
   "cell_type": "markdown",
   "metadata": {},
   "source": [
    "* `parse_float` will be used with string of every JSON float to be decoded. By default JSON string float will be decoded to python float type. But using it we can decode it to some other type like `decimal.Decimal`"
   ]
  },
  {
   "cell_type": "code",
   "execution_count": 82,
   "metadata": {},
   "outputs": [
    {
     "data": {
      "text/plain": [
       "1.1"
      ]
     },
     "execution_count": 82,
     "metadata": {},
     "output_type": "execute_result"
    }
   ],
   "source": [
    "var1 = json.loads('1.1', parse_float=decimal.Decimal)\n",
    "var1"
   ]
  },
  {
   "cell_type": "code",
   "execution_count": 83,
   "metadata": {},
   "outputs": [
    {
     "data": {
      "text/plain": [
       "float"
      ]
     },
     "execution_count": 83,
     "metadata": {},
     "output_type": "execute_result"
    }
   ],
   "source": [
    "type(var1)"
   ]
  },
  {
   "cell_type": "code",
   "execution_count": 85,
   "metadata": {},
   "outputs": [
    {
     "data": {
      "text/plain": [
       "decimal.Decimal"
      ]
     },
     "execution_count": 85,
     "metadata": {},
     "output_type": "execute_result"
    }
   ],
   "source": [
    "import decimal\n",
    "var2 = json.loads('1.1', parse_float=decimal.Decimal)\n",
    "type(var2)"
   ]
  },
  {
   "cell_type": "code",
   "execution_count": 86,
   "metadata": {},
   "outputs": [
    {
     "data": {
      "text/plain": [
       "Decimal('1.1')"
      ]
     },
     "execution_count": 86,
     "metadata": {},
     "output_type": "execute_result"
    }
   ],
   "source": [
    "var2"
   ]
  },
  {
   "cell_type": "markdown",
   "metadata": {},
   "source": [
    "* `parse_int` will decode every JSON string int to specified type.\n",
    "* `parse_int = float`"
   ]
  },
  {
   "cell_type": "markdown",
   "metadata": {},
   "source": [
    "## Serialization and De-serialization using `__dict__`\n",
    "* Take python object and store in JSON called serialization. Opposite way around is deserialization. "
   ]
  },
  {
   "cell_type": "code",
   "execution_count": 89,
   "metadata": {},
   "outputs": [],
   "source": [
    "# Serialize\n",
    "class Person:\n",
    "    def __init__(self, name = None):\n",
    "        if name:\n",
    "            self.name = name\n",
    "\n",
    "people = [Person(\"purvil\"), Person('Japan')]\n",
    "\n",
    "s = json.dumps([p.__dict__ for p in people])"
   ]
  },
  {
   "cell_type": "code",
   "execution_count": 90,
   "metadata": {},
   "outputs": [
    {
     "name": "stdout",
     "output_type": "stream",
     "text": [
      "[{'name': 'purvil'}, {'name': 'Japan'}]\n"
     ]
    }
   ],
   "source": [
    "# Deserialize\n",
    "clones = json.loads(s)\n",
    "print(clones)"
   ]
  },
  {
   "cell_type": "code",
   "execution_count": 91,
   "metadata": {},
   "outputs": [
    {
     "name": "stdout",
     "output_type": "stream",
     "text": [
      "<__main__.Person object at 0x0000021B5B7E1898>\n",
      "purvil\n",
      "<__main__.Person object at 0x0000021B5B7E17B8>\n",
      "Japan\n"
     ]
    }
   ],
   "source": [
    "for clone in clones:\n",
    "    p = Person()\n",
    "    p.__dict__ = clone\n",
    "    print(p)\n",
    "    print(p.name)"
   ]
  },
  {
   "cell_type": "markdown",
   "metadata": {},
   "source": [
    "## Handling non string keys"
   ]
  },
  {
   "cell_type": "markdown",
   "metadata": {},
   "source": [
    "* The JSON format expects the keys to a dictionary to be string.\n",
    "* If you have other type as keys in dictionary trying to encode as JSON will raise TypeError.\n",
    "* One way to solve it is skip non string keys using the `skipkeys` argument.\n",
    "* Rather than raising an exception non-string keys will simply ignored"
   ]
  },
  {
   "cell_type": "code",
   "execution_count": 98,
   "metadata": {},
   "outputs": [],
   "source": [
    "data = [{'a':5, \"b\":3, 4:6}]"
   ]
  },
  {
   "cell_type": "code",
   "execution_count": 99,
   "metadata": {},
   "outputs": [
    {
     "data": {
      "text/plain": [
       "'[{\"a\": 5, \"b\": 3, \"4\": 6}]'"
      ]
     },
     "execution_count": 99,
     "metadata": {},
     "output_type": "execute_result"
    }
   ],
   "source": [
    "json.dumps(data)"
   ]
  },
  {
   "cell_type": "code",
   "execution_count": 100,
   "metadata": {},
   "outputs": [],
   "source": [
    "data1 = [{'a':5, \"b\":3, ('b','x'):6}]"
   ]
  },
  {
   "cell_type": "code",
   "execution_count": 102,
   "metadata": {},
   "outputs": [
    {
     "data": {
      "text/plain": [
       "'[{\"a\": 5, \"b\": 3}]'"
      ]
     },
     "execution_count": 102,
     "metadata": {},
     "output_type": "execute_result"
    }
   ],
   "source": [
    "json.dumps(data1, skipkeys=True)"
   ]
  },
  {
   "cell_type": "markdown",
   "metadata": {},
   "source": [
    "## Reading Writing Json to files `load()` `dump()`"
   ]
  },
  {
   "cell_type": "code",
   "execution_count": 105,
   "metadata": {},
   "outputs": [],
   "source": [
    "data = [{'a':'A', 'b':(2,4), 'c':3.0}]"
   ]
  },
  {
   "cell_type": "code",
   "execution_count": 106,
   "metadata": {},
   "outputs": [],
   "source": [
    "filename = 'jsonData.txt'"
   ]
  },
  {
   "cell_type": "code",
   "execution_count": 107,
   "metadata": {},
   "outputs": [],
   "source": [
    "with open(filename, 'w') as outfile:\n",
    "    json.dump(data, outfile)"
   ]
  },
  {
   "cell_type": "code",
   "execution_count": 108,
   "metadata": {},
   "outputs": [
    {
     "name": "stdout",
     "output_type": "stream",
     "text": [
      "[{\"a\": \"A\", \"b\": [2, 4], \"c\": 3.0}]\n"
     ]
    }
   ],
   "source": [
    "print(open(filename, 'r').read())"
   ]
  },
  {
   "cell_type": "code",
   "execution_count": 109,
   "metadata": {},
   "outputs": [],
   "source": [
    "infile = open(filename, 'r')"
   ]
  },
  {
   "cell_type": "code",
   "execution_count": 110,
   "metadata": {},
   "outputs": [
    {
     "data": {
      "text/plain": [
       "[{'a': 'A', 'b': [2, 4], 'c': 3.0}]"
      ]
     },
     "execution_count": 110,
     "metadata": {},
     "output_type": "execute_result"
    }
   ],
   "source": [
    "json.load(infile)"
   ]
  },
  {
   "cell_type": "markdown",
   "metadata": {},
   "source": [
    "--------------------------------"
   ]
  },
  {
   "cell_type": "markdown",
   "metadata": {},
   "source": [
    "# Pickle\n",
    "* Why we call dump and load instead write and read?\n",
    "     - As we are dealing with binary data\n",
    "* Pickle is used to serialize and deserialize python object structure also known as marshaling or flattening.\n",
    "* Serialization refers to the process of converting an object in memory to byte stream that can be store on disk or send over a network.\n",
    "* Pickle is very useful for ML algorithms, where we can save them to be able to make future predictions at later time without having to rewrite or retrain the model all again."
   ]
  },
  {
   "cell_type": "code",
   "execution_count": 1,
   "metadata": {},
   "outputs": [],
   "source": [
    "import pickle"
   ]
  },
  {
   "cell_type": "code",
   "execution_count": 3,
   "metadata": {},
   "outputs": [],
   "source": [
    "emp = {1:'A', 2:'B', 3:'C', 4:'D', 5:'E'}"
   ]
  },
  {
   "cell_type": "code",
   "execution_count": 4,
   "metadata": {},
   "outputs": [],
   "source": [
    "#pickle\n",
    "pickling_on = open(\"emp.pickle\", \"wb\") # make sure to open in binary mode\n",
    "pickle.dump(emp,  pickling_on)\n",
    "pickling_on.close()"
   ]
  },
  {
   "cell_type": "code",
   "execution_count": null,
   "metadata": {},
   "outputs": [],
   "source": [
    "# unpickle\n"
   ]
  },
  {
   "cell_type": "code",
   "execution_count": 5,
   "metadata": {},
   "outputs": [],
   "source": [
    "pickle_off = open(\"emp.pickle\", \"rb\")\n",
    "emp2 = pickle.load(pickle_off)"
   ]
  },
  {
   "cell_type": "code",
   "execution_count": 6,
   "metadata": {},
   "outputs": [
    {
     "name": "stdout",
     "output_type": "stream",
     "text": [
      "{1: 'A', 2: 'B', 3: 'C', 4: 'D', 5: 'E'}\n"
     ]
    }
   ],
   "source": [
    "print(emp2)"
   ]
  },
  {
   "cell_type": "markdown",
   "metadata": {},
   "source": [
    "* `pickle.picklingError` occur when trying to pickle an object that does not support pickling\n",
    "* `pickle.unpicklingError` raise when file contains corrupted data\n",
    "* `EOFError`: THis is raised when the end of file is detected."
   ]
  },
  {
   "cell_type": "markdown",
   "metadata": {},
   "source": [
    "* Check pickle protocol to make sure compatibility"
   ]
  },
  {
   "cell_type": "code",
   "execution_count": 9,
   "metadata": {},
   "outputs": [
    {
     "data": {
      "text/plain": [
       "4"
      ]
     },
     "execution_count": 9,
     "metadata": {},
     "output_type": "execute_result"
    }
   ],
   "source": [
    "pickle.HIGHEST_PROTOCOL "
   ]
  },
  {
   "cell_type": "markdown",
   "metadata": {},
   "source": [
    "* Unlike JSON we can store any data.\n",
    "* Saved data is no readable so provide data security.\n",
    "* Non python program may not be recontruct pickled python object.\n",
    "* It is very slow.\n",
    "* `cpickle` is 1000 time faster. But in python 2 only.\n",
    "* Python 3's pickle is faster."
   ]
  },
  {
   "cell_type": "markdown",
   "metadata": {},
   "source": [
    "* We can pickle object boolean, int, float, complex, string, tuple, list, set, dictionary.\n",
    "* Also classes  and function can be pickled\n",
    "* Generator, inner class, lambda function can not be pickled easily. use `dill` package."
   ]
  },
  {
   "cell_type": "markdown",
   "metadata": {},
   "source": [
    "#### Create compressed file"
   ]
  },
  {
   "cell_type": "code",
   "execution_count": 15,
   "metadata": {},
   "outputs": [],
   "source": [
    "import bz2\n",
    "sfile = bz2.BZ2File('compressedFile', 'w') # no need of b as compressed is already written as binart\n",
    "pickle.dump(emp,sfile)"
   ]
  },
  {
   "cell_type": "markdown",
   "metadata": {},
   "source": [
    "* To unpickle pythonh 2 object in python 3 use `encoding = 'latin1'` in the load() function"
   ]
  },
  {
   "cell_type": "markdown",
   "metadata": {},
   "source": [
    "### Pickle and multiprocessing"
   ]
  },
  {
   "cell_type": "markdown",
   "metadata": {},
   "source": [
    "* When a task is divided into several processes, we might need to share data.\n",
    "* Process do not share memory space, so when they want to send info between each other they use serialization, which is done using pickle module."
   ]
  },
  {
   "cell_type": "code",
   "execution_count": 17,
   "metadata": {},
   "outputs": [],
   "source": [
    "import multiprocessing as mp"
   ]
  },
  {
   "cell_type": "code",
   "execution_count": 20,
   "metadata": {},
   "outputs": [
    {
     "data": {
      "text/plain": [
       "[1.0,\n",
       " 0.5403023058681398,\n",
       " -0.4161468365471424,\n",
       " -0.9899924966004454,\n",
       " -0.6536436208636119,\n",
       " 0.28366218546322625,\n",
       " 0.960170286650366,\n",
       " 0.7539022543433046,\n",
       " -0.14550003380861354,\n",
       " -0.9111302618846769]"
      ]
     },
     "execution_count": 20,
     "metadata": {},
     "output_type": "execute_result"
    }
   ],
   "source": [
    "from math import cos\n",
    "p = mp.Pool(2) # 2 CPUs\n",
    "p.map(cos, range(10))"
   ]
  },
  {
   "cell_type": "code",
   "execution_count": 21,
   "metadata": {},
   "outputs": [],
   "source": [
    "# p.map(lambda x:x**2, range(10)) # will cause error as pickle is used by mp and pickle does not support lambda functions"
   ]
  },
  {
   "cell_type": "markdown",
   "metadata": {},
   "source": [
    "* `dill` package similar to pickle that can serialize lambda function and other things. It is identical to pickle in other ways"
   ]
  },
  {
   "cell_type": "code",
   "execution_count": 25,
   "metadata": {},
   "outputs": [],
   "source": [
    "import dill\n",
    "dill.dump(lambda x: x**2, open('filename', 'wb'))"
   ]
  },
  {
   "cell_type": "markdown",
   "metadata": {},
   "source": [
    "* To use lambda function in multiprocessing use fork of multiprocessing called `pathos.multiprocessing` This use dill for serialization instead of pickle."
   ]
  },
  {
   "cell_type": "code",
   "execution_count": 28,
   "metadata": {},
   "outputs": [
    {
     "data": {
      "text/plain": [
       "[1, 2, 4, 8, 16, 32, 64, 128, 256, 512]"
      ]
     },
     "execution_count": 28,
     "metadata": {},
     "output_type": "execute_result"
    }
   ],
   "source": [
    "import pathos.multiprocessing as mp\n",
    "p = mp.Pool(2)\n",
    "p.map(lambda x: 2**x, range(10))"
   ]
  },
  {
   "cell_type": "markdown",
   "metadata": {},
   "source": [
    "------------------------------"
   ]
  },
  {
   "cell_type": "markdown",
   "metadata": {},
   "source": [
    "### CSV module"
   ]
  },
  {
   "cell_type": "code",
   "execution_count": 2,
   "metadata": {},
   "outputs": [],
   "source": [
    "import csv"
   ]
  },
  {
   "cell_type": "markdown",
   "metadata": {},
   "source": [
    "* CSV is lightweight\n",
    "* Each line of text is single row.\n",
    "* Field are separated by comma character\n",
    "* Just data itself."
   ]
  },
  {
   "cell_type": "markdown",
   "metadata": {},
   "source": [
    "#### csv.reader\n",
    "* Returns the reader object that will iterate over line in the given csv file."
   ]
  },
  {
   "cell_type": "code",
   "execution_count": 9,
   "metadata": {},
   "outputs": [
    {
     "name": "stdout",
     "output_type": "stream",
     "text": [
      "['Title', 'Released', 'Label', 'UK Chart Position', 'US Chart Position', 'BPI Certification', 'RIAA Certification']\n",
      "['Please Please Me', '22 March 1963', 'Parlophone(UK)', '1', '-', 'Gold', 'Platinum']\n",
      "['With the Beatles', '22 November 1963', 'Parlophone(UK)', '1', '-', 'Platinum', 'Gold']\n",
      "['Beatlemania! With the Beatles', '25 November 1963', 'Capitol(CAN)', '-', '-', '', '']\n",
      "['Introducing... The Beatles', '10 January 1964', 'Vee-Jay(US)', '-', '2', '', '']\n",
      "['Meet the Beatles!', '20 January 1964', 'Capitol(US)', '-', '1', '', '5xPlatinum']\n",
      "['Twist and Shout', '3 February 1964', 'Capitol(CAN)', '-', '-', '', '']\n",
      "[\"The Beatles' Second Album\", '10 April 1964', 'Capitol(US)', '-', '1', '', '2xPlatinum']\n",
      "[\"The Beatles' Long Tall Sally\", '11 May 1964', 'Capitol(CAN)', '-', '-', '', '']\n",
      "[\"A Hard Day's Night\", '26 June 1964', 'United Artists(US)[C]', '-', '1', '', '4xPlatinum']\n",
      "['', '10 July 1964', 'Parlophone(UK)', '1', '-', 'Gold', '']\n",
      "['Something New', '20 July 1964', 'Capitol(US)', '-', '2', '', 'Platinum']\n",
      "['Beatles for Sale', '4 December 1964', 'Parlophone(UK)', '1', '-', 'Gold', 'Platinum']\n",
      "[\"Beatles '65\", '15 December 1964', 'Capitol(US)', '-', '1', '', '3xPlatinum']\n",
      "['Beatles VI', '14 June 1965', 'Parlophone(NZ), Capitol(US)', '-', '1', '', 'Platinum']\n",
      "['Help!', '6 August 1965', 'Parlophone(UK)', '1', '-', 'Platinum', '']\n",
      "['', '13 August 1965', 'Capitol(US)[C]', '-', '1', '', '3xPlatinum']\n",
      "['Rubber Soul', '3 December 1965', 'Parlophone(UK)', '1', '-', 'Platinum', '']\n",
      "['', '6 December 1965', 'Capitol(US)[C]', '-', '1', '', '6xPlatinum']\n",
      "['Yesterday and Today', '15 June 1966', 'Capitol(US)', '-', '1', '', '2xPlatinum']\n",
      "['Revolver', '5 August 1966', 'Parlophone(UK)', '1', '-', 'Platinum', '']\n",
      "['', '8 August 1966', 'Capitol(US)[C]', '-', '1', '', '5xPlatinum']\n",
      "[\"Sgt. Pepper's Lonely Hearts Club Band\", '1 June 1967', 'Parlophone(UK), Capitol(US)', '1', '1', '3xPlatinum', '11xPlatinum']\n",
      "['Magical Mystery Tour', '27 November 1967', 'Parlophone(UK), Capitol(US)', '31[D]', '1', 'Platinum', '6xPlatinum']\n",
      "['The Beatles', '22 November 1968', 'Apple(UK), Capitol(US)', '1', '1', 'Platinum', '19xPlatinum']\n",
      "['Yellow Submarine', '13 January 1969', 'Apple(UK), Capitol(US)', '3', '2', 'Silver', 'Platinum']\n",
      "['Abbey Road', '26 September 1969', 'Apple(UK), Capitol(US)', '1', '1', '2xPlatinum', '12xPlatinum']\n",
      "['Let It Be', '8 May 1970', 'Apple(UK),United Artists(US)', '1', '1', 'Gold', '4xPlatinum']\n"
     ]
    }
   ],
   "source": [
    "with open(\"beatles-discography.csv\", 'r') as csvfile:\n",
    "    csvreader = csv.reader(csvfile, delimiter = ',')\n",
    "    for row in csvreader:\n",
    "        print(row)"
   ]
  },
  {
   "cell_type": "markdown",
   "metadata": {},
   "source": [
    "#### csv.writer\n",
    "* Used to write csv fileZ"
   ]
  },
  {
   "cell_type": "code",
   "execution_count": 1,
   "metadata": {},
   "outputs": [],
   "source": [
    "#### csv.DictReader"
   ]
  },
  {
   "cell_type": "code",
   "execution_count": 5,
   "metadata": {},
   "outputs": [
    {
     "name": "stdout",
     "output_type": "stream",
     "text": [
      "<csv.DictReader object at 0x000001EE472525F8>\n",
      "OrderedDict([('Title', 'Please Please Me'), ('Released', '22 March 1963'), ('Label', 'Parlophone(UK)'), ('UK Chart Position', '1'), ('US Chart Position', '-'), ('BPI Certification', 'Gold'), ('RIAA Certification', 'Platinum')])\n",
      "OrderedDict([('Title', 'With the Beatles'), ('Released', '22 November 1963'), ('Label', 'Parlophone(UK)'), ('UK Chart Position', '1'), ('US Chart Position', '-'), ('BPI Certification', 'Platinum'), ('RIAA Certification', 'Gold')])\n",
      "OrderedDict([('Title', 'Beatlemania! With the Beatles'), ('Released', '25 November 1963'), ('Label', 'Capitol(CAN)'), ('UK Chart Position', '-'), ('US Chart Position', '-'), ('BPI Certification', ''), ('RIAA Certification', '')])\n",
      "OrderedDict([('Title', 'Introducing... The Beatles'), ('Released', '10 January 1964'), ('Label', 'Vee-Jay(US)'), ('UK Chart Position', '-'), ('US Chart Position', '2'), ('BPI Certification', ''), ('RIAA Certification', '')])\n",
      "OrderedDict([('Title', 'Meet the Beatles!'), ('Released', '20 January 1964'), ('Label', 'Capitol(US)'), ('UK Chart Position', '-'), ('US Chart Position', '1'), ('BPI Certification', ''), ('RIAA Certification', '5xPlatinum')])\n",
      "OrderedDict([('Title', 'Twist and Shout'), ('Released', '3 February 1964'), ('Label', 'Capitol(CAN)'), ('UK Chart Position', '-'), ('US Chart Position', '-'), ('BPI Certification', ''), ('RIAA Certification', '')])\n",
      "OrderedDict([('Title', \"The Beatles' Second Album\"), ('Released', '10 April 1964'), ('Label', 'Capitol(US)'), ('UK Chart Position', '-'), ('US Chart Position', '1'), ('BPI Certification', ''), ('RIAA Certification', '2xPlatinum')])\n",
      "OrderedDict([('Title', \"The Beatles' Long Tall Sally\"), ('Released', '11 May 1964'), ('Label', 'Capitol(CAN)'), ('UK Chart Position', '-'), ('US Chart Position', '-'), ('BPI Certification', ''), ('RIAA Certification', '')])\n",
      "OrderedDict([('Title', \"A Hard Day's Night\"), ('Released', '26 June 1964'), ('Label', 'United Artists(US)[C]'), ('UK Chart Position', '-'), ('US Chart Position', '1'), ('BPI Certification', ''), ('RIAA Certification', '4xPlatinum')])\n",
      "OrderedDict([('Title', ''), ('Released', '10 July 1964'), ('Label', 'Parlophone(UK)'), ('UK Chart Position', '1'), ('US Chart Position', '-'), ('BPI Certification', 'Gold'), ('RIAA Certification', '')])\n",
      "OrderedDict([('Title', 'Something New'), ('Released', '20 July 1964'), ('Label', 'Capitol(US)'), ('UK Chart Position', '-'), ('US Chart Position', '2'), ('BPI Certification', ''), ('RIAA Certification', 'Platinum')])\n",
      "OrderedDict([('Title', 'Beatles for Sale'), ('Released', '4 December 1964'), ('Label', 'Parlophone(UK)'), ('UK Chart Position', '1'), ('US Chart Position', '-'), ('BPI Certification', 'Gold'), ('RIAA Certification', 'Platinum')])\n",
      "OrderedDict([('Title', \"Beatles '65\"), ('Released', '15 December 1964'), ('Label', 'Capitol(US)'), ('UK Chart Position', '-'), ('US Chart Position', '1'), ('BPI Certification', ''), ('RIAA Certification', '3xPlatinum')])\n",
      "OrderedDict([('Title', 'Beatles VI'), ('Released', '14 June 1965'), ('Label', 'Parlophone(NZ), Capitol(US)'), ('UK Chart Position', '-'), ('US Chart Position', '1'), ('BPI Certification', ''), ('RIAA Certification', 'Platinum')])\n",
      "OrderedDict([('Title', 'Help!'), ('Released', '6 August 1965'), ('Label', 'Parlophone(UK)'), ('UK Chart Position', '1'), ('US Chart Position', '-'), ('BPI Certification', 'Platinum'), ('RIAA Certification', '')])\n",
      "OrderedDict([('Title', ''), ('Released', '13 August 1965'), ('Label', 'Capitol(US)[C]'), ('UK Chart Position', '-'), ('US Chart Position', '1'), ('BPI Certification', ''), ('RIAA Certification', '3xPlatinum')])\n",
      "OrderedDict([('Title', 'Rubber Soul'), ('Released', '3 December 1965'), ('Label', 'Parlophone(UK)'), ('UK Chart Position', '1'), ('US Chart Position', '-'), ('BPI Certification', 'Platinum'), ('RIAA Certification', '')])\n",
      "OrderedDict([('Title', ''), ('Released', '6 December 1965'), ('Label', 'Capitol(US)[C]'), ('UK Chart Position', '-'), ('US Chart Position', '1'), ('BPI Certification', ''), ('RIAA Certification', '6xPlatinum')])\n",
      "OrderedDict([('Title', 'Yesterday and Today'), ('Released', '15 June 1966'), ('Label', 'Capitol(US)'), ('UK Chart Position', '-'), ('US Chart Position', '1'), ('BPI Certification', ''), ('RIAA Certification', '2xPlatinum')])\n",
      "OrderedDict([('Title', 'Revolver'), ('Released', '5 August 1966'), ('Label', 'Parlophone(UK)'), ('UK Chart Position', '1'), ('US Chart Position', '-'), ('BPI Certification', 'Platinum'), ('RIAA Certification', '')])\n",
      "OrderedDict([('Title', ''), ('Released', '8 August 1966'), ('Label', 'Capitol(US)[C]'), ('UK Chart Position', '-'), ('US Chart Position', '1'), ('BPI Certification', ''), ('RIAA Certification', '5xPlatinum')])\n",
      "OrderedDict([('Title', \"Sgt. Pepper's Lonely Hearts Club Band\"), ('Released', '1 June 1967'), ('Label', 'Parlophone(UK), Capitol(US)'), ('UK Chart Position', '1'), ('US Chart Position', '1'), ('BPI Certification', '3xPlatinum'), ('RIAA Certification', '11xPlatinum')])\n",
      "OrderedDict([('Title', 'Magical Mystery Tour'), ('Released', '27 November 1967'), ('Label', 'Parlophone(UK), Capitol(US)'), ('UK Chart Position', '31[D]'), ('US Chart Position', '1'), ('BPI Certification', 'Platinum'), ('RIAA Certification', '6xPlatinum')])\n",
      "OrderedDict([('Title', 'The Beatles'), ('Released', '22 November 1968'), ('Label', 'Apple(UK), Capitol(US)'), ('UK Chart Position', '1'), ('US Chart Position', '1'), ('BPI Certification', 'Platinum'), ('RIAA Certification', '19xPlatinum')])\n",
      "OrderedDict([('Title', 'Yellow Submarine'), ('Released', '13 January 1969'), ('Label', 'Apple(UK), Capitol(US)'), ('UK Chart Position', '3'), ('US Chart Position', '2'), ('BPI Certification', 'Silver'), ('RIAA Certification', 'Platinum')])\n",
      "OrderedDict([('Title', 'Abbey Road'), ('Released', '26 September 1969'), ('Label', 'Apple(UK), Capitol(US)'), ('UK Chart Position', '1'), ('US Chart Position', '1'), ('BPI Certification', '2xPlatinum'), ('RIAA Certification', '12xPlatinum')])\n",
      "OrderedDict([('Title', 'Let It Be'), ('Released', '8 May 1970'), ('Label', 'Apple(UK),United Artists(US)'), ('UK Chart Position', '1'), ('US Chart Position', '1'), ('BPI Certification', 'Gold'), ('RIAA Certification', '4xPlatinum')])\n"
     ]
    }
   ],
   "source": [
    "with open('beatles-discography.csv', 'r') as file:\n",
    "    data = csv.DictReader(file)\n",
    "    print(data)\n",
    "    for line in data:\n",
    "        print(line)"
   ]
  },
  {
   "cell_type": "code",
   "execution_count": null,
   "metadata": {},
   "outputs": [],
   "source": []
  }
 ],
 "metadata": {
  "kernelspec": {
   "display_name": "Python 3",
   "language": "python",
   "name": "python3"
  },
  "language_info": {
   "codemirror_mode": {
    "name": "ipython",
    "version": 3
   },
   "file_extension": ".py",
   "mimetype": "text/x-python",
   "name": "python",
   "nbconvert_exporter": "python",
   "pygments_lexer": "ipython3",
   "version": "3.7.1"
  }
 },
 "nbformat": 4,
 "nbformat_minor": 2
}
