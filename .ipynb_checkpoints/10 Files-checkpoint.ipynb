{
 "cells": [
  {
   "cell_type": "markdown",
   "metadata": {},
   "source": [
    "### `open()`\n",
    "* Returns file object/handler. File handler is used to perform operation on file"
   ]
  },
  {
   "cell_type": "code",
   "execution_count": 1,
   "metadata": {},
   "outputs": [],
   "source": [
    "fd = open('myText.txt', 'r') # if no second argument default is 'r'"
   ]
  },
  {
   "cell_type": "markdown",
   "metadata": {},
   "source": [
    "* `r`: read only\n",
    "* `w`: write only(existed file with same name will be deleted and new file will be created)\n",
    "* `x`: write only. Create new file if no file is existed, otherwise fail\n",
    "* `a`: Append to existing file, create new file if not exist\n",
    "* `r+`: read and write\n",
    "* `b`: add to mode for binary file i.e 'rb', 'wb'. Should be used when file does not have text. Ex JPEG, EXE\n",
    "* `t`: Text mode for files. This is default if not specified. Add t to other modes to use this i.e `rt` or `xt`. In text mode bytes are automatically decoded as unicode."
   ]
  },
  {
   "cell_type": "code",
   "execution_count": 2,
   "metadata": {},
   "outputs": [
    {
     "name": "stdout",
     "output_type": "stream",
     "text": [
      "I am line 1.\n",
      "\n",
      "I am line 2.\n",
      "\n",
      "I am line 3.This is write function\n"
     ]
    }
   ],
   "source": [
    "for line in fd:\n",
    "    print(line)\n",
    "# here file object will be open for indeterminate amount of time even after this part of code has finished execution."
   ]
  },
  {
   "cell_type": "code",
   "execution_count": 3,
   "metadata": {},
   "outputs": [
    {
     "data": {
      "text/plain": [
       "False"
      ]
     },
     "execution_count": 3,
     "metadata": {},
     "output_type": "execute_result"
    }
   ],
   "source": [
    "fd.closed"
   ]
  },
  {
   "cell_type": "code",
   "execution_count": 4,
   "metadata": {},
   "outputs": [],
   "source": [
    "fd.close() # explicitly close the file, otherwise garbage collector will destory the object and close the file."
   ]
  },
  {
   "cell_type": "code",
   "execution_count": 5,
   "metadata": {},
   "outputs": [
    {
     "data": {
      "text/plain": [
       "True"
      ]
     },
     "execution_count": 5,
     "metadata": {},
     "output_type": "execute_result"
    }
   ],
   "source": [
    "fd.closed"
   ]
  },
  {
   "cell_type": "markdown",
   "metadata": {},
   "source": [
    "### `with`\n",
    "- File will automatically get closed after work done, also during exception."
   ]
  },
  {
   "cell_type": "code",
   "execution_count": 6,
   "metadata": {},
   "outputs": [
    {
     "name": "stdout",
     "output_type": "stream",
     "text": [
      "I am line 1.\n",
      "\n",
      "I am line 2.\n",
      "\n",
      "I am line 3.This is write function\n"
     ]
    }
   ],
   "source": [
    "with open(\"myText.txt\") as f:\n",
    "    for line in f:\n",
    "        print(line)"
   ]
  },
  {
   "cell_type": "code",
   "execution_count": 7,
   "metadata": {},
   "outputs": [
    {
     "data": {
      "text/plain": [
       "True"
      ]
     },
     "execution_count": 7,
     "metadata": {},
     "output_type": "execute_result"
    }
   ],
   "source": [
    "f.closed"
   ]
  },
  {
   "cell_type": "markdown",
   "metadata": {},
   "source": [
    "### `read(size)`\n",
    "* read some data and return it as string. If no size defined entire content of file is read"
   ]
  },
  {
   "cell_type": "code",
   "execution_count": 8,
   "metadata": {},
   "outputs": [
    {
     "name": "stdout",
     "output_type": "stream",
     "text": [
      "I am \n"
     ]
    }
   ],
   "source": [
    "with open('myText.txt') as fd:\n",
    "    print(fd.read(5))"
   ]
  },
  {
   "cell_type": "code",
   "execution_count": 9,
   "metadata": {},
   "outputs": [
    {
     "name": "stdout",
     "output_type": "stream",
     "text": [
      "I am line 1.\n",
      "I am line 2.\n",
      "I am line 3.This is write function\n",
      "*********************\n",
      "\n"
     ]
    }
   ],
   "source": [
    "with open('myText.txt') as fd:\n",
    "    print(fd.read())\n",
    "    print(\"*********************\")\n",
    "    # If you already have read entire file and end of file have been reached, if you again try to read it,\n",
    "    # empty string will be returned\n",
    "    print(fd.read()) "
   ]
  },
  {
   "cell_type": "markdown",
   "metadata": {},
   "source": [
    "### `readline()`\n",
    "* Read single line from file."
   ]
  },
  {
   "cell_type": "code",
   "execution_count": 10,
   "metadata": {
    "scrolled": true
   },
   "outputs": [
    {
     "name": "stdout",
     "output_type": "stream",
     "text": [
      "I am line 1.\n",
      "\n"
     ]
    }
   ],
   "source": [
    "with open(\"myText.txt\") as fd:\n",
    "    print(fd.readline())"
   ]
  },
  {
   "cell_type": "markdown",
   "metadata": {},
   "source": [
    "### `readlines()`\n",
    "* Read lines in list\n",
    "* we can also specify number of characters to be read. As soon as that much character read, it will not read line after that."
   ]
  },
  {
   "cell_type": "code",
   "execution_count": 11,
   "metadata": {},
   "outputs": [
    {
     "name": "stdout",
     "output_type": "stream",
     "text": [
      "['I am line 1.\\n', 'I am line 2.\\n', 'I am line 3.This is write function']\n"
     ]
    }
   ],
   "source": [
    "with open(\"myText.txt\") as fd:\n",
    "    print(fd.readlines())"
   ]
  },
  {
   "cell_type": "markdown",
   "metadata": {},
   "source": [
    "### `write()`\n",
    "* Write string content to the file. Returns the number of character written.\n",
    "* Other types of object need to be converted to string or byte object before writing them."
   ]
  },
  {
   "cell_type": "code",
   "execution_count": 12,
   "metadata": {},
   "outputs": [],
   "source": [
    "with open(\"myText.txt\", 'a') as fd:\n",
    "    fd.write(\"This is write function\")"
   ]
  },
  {
   "cell_type": "code",
   "execution_count": 13,
   "metadata": {},
   "outputs": [
    {
     "name": "stdout",
     "output_type": "stream",
     "text": [
      "I am line 1.\n",
      "\n",
      "I am line 2.\n",
      "\n",
      "I am line 3.This is write functionThis is write function\n"
     ]
    }
   ],
   "source": [
    "with open(\"myText.txt\") as fd:\n",
    "    for line in fd:\n",
    "        print(line)"
   ]
  },
  {
   "cell_type": "markdown",
   "metadata": {},
   "source": [
    "### `tell()`\n",
    "* The read method advances file handler's position by number of bytes read.\n",
    "* `tell` gives you current position.\n",
    "* Returns integer giving file handler's current position in the file as number of bytes from beginning of file or opaque number in text mode."
   ]
  },
  {
   "cell_type": "code",
   "execution_count": 14,
   "metadata": {},
   "outputs": [
    {
     "name": "stdout",
     "output_type": "stream",
     "text": [
      "13\n"
     ]
    }
   ],
   "source": [
    "with open(\"myText.txt\") as fd:\n",
    "    fd.readline()\n",
    "    print(fd.tell())"
   ]
  },
  {
   "cell_type": "markdown",
   "metadata": {},
   "source": [
    "### `seek(offset, from_what)`\n",
    "* Changes the file position to the indicated byte in file.\n",
    "* Position is calculated by adding offset to reference point\n",
    "* Offset is selected by `from_what` argument. That can be\n",
    "    - 0: beginning of file\n",
    "    - 1: current file position\n",
    "    - 2: end of file\n",
    "* Default is 0."
   ]
  },
  {
   "cell_type": "code",
   "execution_count": 15,
   "metadata": {},
   "outputs": [
    {
     "name": "stdout",
     "output_type": "stream",
     "text": [
      "13\n",
      "5\n",
      "line 1.\n",
      "I am line 2.\n",
      "I am line 3.This is write functionThis is write function\n"
     ]
    }
   ],
   "source": [
    "with open(\"myText.txt\") as fd:\n",
    "    fd.readline()\n",
    "    print(fd.tell())\n",
    "    fd.seek(5, 0)\n",
    "    print(fd.tell())\n",
    "    print(fd.read())"
   ]
  },
  {
   "cell_type": "markdown",
   "metadata": {},
   "source": [
    "### `writeline`\n",
    "* Write passed sequence of strings to the file.\n",
    "* Let's copy the file.\n",
    "\n",
    "```\n",
    "with open('filename.txt', 'w') as handle:\n",
    "    handle.writelines(x for x in open('file', 'r') if len(x) > 1)\n",
    "```"
   ]
  },
  {
   "cell_type": "markdown",
   "metadata": {},
   "source": [
    "### `flush`\n",
    "* Flush internal I/O buffer to disk"
   ]
  },
  {
   "cell_type": "markdown",
   "metadata": {},
   "source": [
    "### Delete the file\n",
    "\n",
    "```\n",
    "import os\n",
    "os.remove('filename')\n",
    "```"
   ]
  },
  {
   "cell_type": "markdown",
   "metadata": {},
   "source": [
    "### Encodinng file \n",
    "\n",
    "```\n",
    "path = 'fileName'\n",
    "with open(path) as source:\n",
    "    with open(sink_path, 'xt', encoding = 'iso-8859-1') as sink:\n",
    "        sink.write(source.read())\n",
    "\n",
    "with open(sink_path, encoding = 'iso-8859-1') as f:\n",
    "    print(f.read(10))\n",
    "```"
   ]
  },
  {
   "cell_type": "markdown",
   "metadata": {},
   "source": [
    "### Context manager\n",
    "* Objects which are designed to be used with `with` statements.\n",
    "```\n",
    "with context_manager:\n",
    "    body\n",
    "```\n",
    "* Context manager implements 2 methods which are used during execution of with statement `__enter__()` and `__exit__()`.\n",
    "* A context manager is way to ensure that resources are properly and automatically managed.\n",
    "* enter method prepares the manager for use\n",
    "* exit cleans it up.\n",
    "* Both method will be called regardless what happen in body of with.\n",
    "* with statement first evaluate context_manager and call its enter method.\n",
    "* Return value of enter is bound to the name of `as` clause of `with`.\n",
    "* then body of with is executed.\n",
    "* if exceptions happens in body or not exit method is called.\n",
    "* But if exception occurs, exceptions info is passed to exit method."
   ]
  },
  {
   "cell_type": "code",
   "execution_count": 16,
   "metadata": {},
   "outputs": [],
   "source": [
    "class MyContextManager:\n",
    "    def __enter__(self):\n",
    "        return \"I am context manager\"\n",
    "    \n",
    "    def __exit__(self, exc_type, exc_val, exc_tb):\n",
    "        print(exc_type, exc_val, exc_tb)\n",
    "        return"
   ]
  },
  {
   "cell_type": "code",
   "execution_count": 17,
   "metadata": {},
   "outputs": [
    {
     "name": "stdout",
     "output_type": "stream",
     "text": [
      "I am context manager\n",
      "None None None\n"
     ]
    }
   ],
   "source": [
    "with MyContextManager() as m:\n",
    "    print(m)"
   ]
  },
  {
   "cell_type": "code",
   "execution_count": 18,
   "metadata": {},
   "outputs": [
    {
     "name": "stdout",
     "output_type": "stream",
     "text": [
      "I am context manager\n",
      "<class 'ValueError'> not good <traceback object at 0x000001843DB9AE08>\n"
     ]
    },
    {
     "ename": "ValueError",
     "evalue": "not good",
     "output_type": "error",
     "traceback": [
      "\u001b[1;31m---------------------------------------------------------------------------\u001b[0m",
      "\u001b[1;31mValueError\u001b[0m                                Traceback (most recent call last)",
      "\u001b[1;32m<ipython-input-18-82b70e7502a0>\u001b[0m in \u001b[0;36m<module>\u001b[1;34m\u001b[0m\n\u001b[0;32m      1\u001b[0m \u001b[1;32mwith\u001b[0m \u001b[0mMyContextManager\u001b[0m\u001b[1;33m(\u001b[0m\u001b[1;33m)\u001b[0m \u001b[1;32mas\u001b[0m \u001b[0mm\u001b[0m\u001b[1;33m:\u001b[0m\u001b[1;33m\u001b[0m\u001b[1;33m\u001b[0m\u001b[0m\n\u001b[0;32m      2\u001b[0m     \u001b[0mprint\u001b[0m\u001b[1;33m(\u001b[0m\u001b[0mm\u001b[0m\u001b[1;33m)\u001b[0m\u001b[1;33m\u001b[0m\u001b[1;33m\u001b[0m\u001b[0m\n\u001b[1;32m----> 3\u001b[1;33m     \u001b[1;32mraise\u001b[0m \u001b[0mValueError\u001b[0m\u001b[1;33m(\u001b[0m\u001b[1;34m\"not good\"\u001b[0m\u001b[1;33m)\u001b[0m\u001b[1;33m\u001b[0m\u001b[1;33m\u001b[0m\u001b[0m\n\u001b[0m",
      "\u001b[1;31mValueError\u001b[0m: not good"
     ]
    }
   ],
   "source": [
    "with MyContextManager() as m:\n",
    "    print(m)\n",
    "    raise ValueError(\"not good\")"
   ]
  }
 ],
 "metadata": {
  "kernelspec": {
   "display_name": "Python 3",
   "language": "python",
   "name": "python3"
  },
  "language_info": {
   "codemirror_mode": {
    "name": "ipython",
    "version": 3
   },
   "file_extension": ".py",
   "mimetype": "text/x-python",
   "name": "python",
   "nbconvert_exporter": "python",
   "pygments_lexer": "ipython3",
   "version": "3.7.1"
  }
 },
 "nbformat": 4,
 "nbformat_minor": 2
}
