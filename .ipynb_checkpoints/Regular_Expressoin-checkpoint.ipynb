{
 "cells": [
  {
   "cell_type": "markdown",
   "metadata": {},
   "source": [
    "# Regular Expression"
   ]
  },
  {
   "cell_type": "markdown",
   "metadata": {},
   "source": [
    "* Regex is sequence of characters that describe search pattern.\n",
    "* That are text matching patterns. \n",
    "* Provides flexible way to search or match string patterns in text."
   ]
  },
  {
   "cell_type": "code",
   "execution_count": 1,
   "metadata": {},
   "outputs": [],
   "source": [
    "import re"
   ]
  },
  {
   "cell_type": "markdown",
   "metadata": {},
   "source": [
    "* `.` indicate that any character can be put in its place.\n",
    "    - \"a.c\" can be \"aac\", \"abc\", \"acc\", \"ascsssss\"\n",
    "    - \"..t\" can be \"bat\", \"habit\", \"oat\"\n",
    "* `\\.` matches `.` character in string. `\\` is escape sequence.\n",
    "* `^` matches beginning of string\n",
    "    - \"^b.tter\" matches with \"better\", \"butter\", \"batter\" \n",
    "* `$` matches end of string\n",
    "* `[bcr]at` will match 'bat', 'cat', 'rat'\n",
    "* \"\\[Serious]\" look for entire '[Serious]' in string.\n",
    "* \"[\\[\\(][Ss]erious][\\]\\)]\" match for '(Serious)', '(serious)', '[Serious]', '[serious)'\n",
    "* To combine the regular expression we can use `|`. Ex. \"cat|dog\" will match with 'catfish' and 'hotdog'\n",
    "* `'[0-9]'` matches the characters falls between 0 and 9\n",
    "* `'[a-z]'` matches the characters falls between a and z\n",
    "* `{}` is used to indicate pattern will repeat\n",
    "    - `'[0-9]{4}'` match 0 to 9 four times."
   ]
  },
  {
   "cell_type": "markdown",
   "metadata": {},
   "source": [
    "### `re.search(regex, string)`\n",
    "* Whether string is a match for regex. If yes expression will return match object otherwise None."
   ]
  },
  {
   "cell_type": "code",
   "execution_count": 2,
   "metadata": {},
   "outputs": [],
   "source": [
    "text = \"This is a string with text term1, but not the other term\""
   ]
  },
  {
   "cell_type": "markdown",
   "metadata": {},
   "source": [
    "* re.search() returns match object which also contains info about the start and the end of the match"
   ]
  },
  {
   "cell_type": "code",
   "execution_count": 3,
   "metadata": {},
   "outputs": [],
   "source": [
    "match = re.search(\"term1\", text)"
   ]
  },
  {
   "cell_type": "code",
   "execution_count": 4,
   "metadata": {},
   "outputs": [
    {
     "data": {
      "text/plain": [
       "re.Match"
      ]
     },
     "execution_count": 4,
     "metadata": {},
     "output_type": "execute_result"
    }
   ],
   "source": [
    "type(match)"
   ]
  },
  {
   "cell_type": "code",
   "execution_count": 5,
   "metadata": {},
   "outputs": [
    {
     "data": {
      "text/plain": [
       "27"
      ]
     },
     "execution_count": 5,
     "metadata": {},
     "output_type": "execute_result"
    }
   ],
   "source": [
    "match.start()"
   ]
  },
  {
   "cell_type": "code",
   "execution_count": 6,
   "metadata": {},
   "outputs": [
    {
     "data": {
      "text/plain": [
       "32"
      ]
     },
     "execution_count": 6,
     "metadata": {},
     "output_type": "execute_result"
    }
   ],
   "source": [
    "match.end()"
   ]
  },
  {
   "cell_type": "code",
   "execution_count": 7,
   "metadata": {},
   "outputs": [
    {
     "data": {
      "text/plain": [
       "20"
      ]
     },
     "execution_count": 7,
     "metadata": {},
     "output_type": "execute_result"
    }
   ],
   "source": [
    "match = re.search(\"term1\", \"This is string with TERM1\",re.IGNORECASE)\n",
    "match.start()"
   ]
  },
  {
   "cell_type": "markdown",
   "metadata": {},
   "source": [
    "### `groups()`\n",
    "* We use group(num) or groups() function of match object to get matched expression"
   ]
  },
  {
   "cell_type": "code",
   "execution_count": 8,
   "metadata": {},
   "outputs": [],
   "source": [
    "line = \"Cats are smarter than dogs\""
   ]
  },
  {
   "cell_type": "code",
   "execution_count": 9,
   "metadata": {},
   "outputs": [],
   "source": [
    "matchObj = re.match(r'(.*) are (.*?) .*', line, re.M|re.I) # ? means not be greedy. re.I ignore case"
   ]
  },
  {
   "cell_type": "code",
   "execution_count": 10,
   "metadata": {},
   "outputs": [
    {
     "data": {
      "text/plain": [
       "'Cats are smarter than dogs'"
      ]
     },
     "execution_count": 10,
     "metadata": {},
     "output_type": "execute_result"
    }
   ],
   "source": [
    "matchObj.group()"
   ]
  },
  {
   "cell_type": "code",
   "execution_count": 11,
   "metadata": {},
   "outputs": [
    {
     "data": {
      "text/plain": [
       "'Cats'"
      ]
     },
     "execution_count": 11,
     "metadata": {},
     "output_type": "execute_result"
    }
   ],
   "source": [
    "matchObj.group(1)"
   ]
  },
  {
   "cell_type": "code",
   "execution_count": 12,
   "metadata": {},
   "outputs": [
    {
     "data": {
      "text/plain": [
       "'smarter'"
      ]
     },
     "execution_count": 12,
     "metadata": {},
     "output_type": "execute_result"
    }
   ],
   "source": [
    "matchObj.group(2)"
   ]
  },
  {
   "cell_type": "markdown",
   "metadata": {},
   "source": [
    "* `re.DEBUG` : Display debug information about compiled expression\n",
    "* `re.I` : re.IGNORECASE, perfom case-insensitive matching\n",
    "* `re.L` : re.LOCALE make \\w, \\W, \\b, \\B, \\s and \\S dependent on the current locale\n",
    "* `re.M` : re.MULTILINE When specified the pattern character `^` matches at the beginning of the string and at the beginning of each line and `$` matches at the end of the string and at the end of each line.\n",
    "* `re.S` : re.DOTALL Make the `.` special character match any character at all, including a newline, without this flag `.` will match anything except new line\n",
    "* `re.U` : re.UNICODE Make the  \\w, \\W, \\b, \\B, \\s and \\S sequence dependent on the Unicode character property database.\n",
    "* `re.X` : re.VERBOSE Permits \"cuter\" regular expression syntax. It ignores whitespace(Except inside [] or escaped by \\ ) and treats unescaped # as comment marker."
   ]
  },
  {
   "cell_type": "code",
   "execution_count": 13,
   "metadata": {},
   "outputs": [],
   "source": [
    "text = \"foo     bar\\\n",
    "    baz\\\n",
    "        qux\""
   ]
  },
  {
   "cell_type": "code",
   "execution_count": 14,
   "metadata": {},
   "outputs": [
    {
     "data": {
      "text/plain": [
       "'foo     bar    baz        qux'"
      ]
     },
     "execution_count": 14,
     "metadata": {},
     "output_type": "execute_result"
    }
   ],
   "source": [
    "text"
   ]
  },
  {
   "cell_type": "code",
   "execution_count": 15,
   "metadata": {},
   "outputs": [
    {
     "data": {
      "text/plain": [
       "['foo', 'bar', 'baz', 'qux']"
      ]
     },
     "execution_count": 15,
     "metadata": {},
     "output_type": "execute_result"
    }
   ],
   "source": [
    "re.split('\\s+', text)"
   ]
  },
  {
   "cell_type": "markdown",
   "metadata": {},
   "source": [
    "* Calling `re.split('\\s+', text)`, the RE will first compiled and then split method is called on the passed text. If we plan to ust same logic multiple time compile regex manually to save CPU time."
   ]
  },
  {
   "cell_type": "code",
   "execution_count": 16,
   "metadata": {},
   "outputs": [],
   "source": [
    "regex = re.compile('\\s+')"
   ]
  },
  {
   "cell_type": "code",
   "execution_count": 17,
   "metadata": {},
   "outputs": [
    {
     "data": {
      "text/plain": [
       "['foo', 'bar', 'baz', 'qux']"
      ]
     },
     "execution_count": 17,
     "metadata": {},
     "output_type": "execute_result"
    }
   ],
   "source": [
    "regex.split(text)"
   ]
  },
  {
   "cell_type": "markdown",
   "metadata": {},
   "source": [
    "### `split()`\n",
    "* Returns a list with the term to split on removed and the terms in the list are a split up version of string"
   ]
  },
  {
   "cell_type": "code",
   "execution_count": 18,
   "metadata": {},
   "outputs": [],
   "source": [
    "split_term = '@'"
   ]
  },
  {
   "cell_type": "code",
   "execution_count": 19,
   "metadata": {},
   "outputs": [],
   "source": [
    "phrase = \"What is the domain name of someone with the email hello@gmail.com\""
   ]
  },
  {
   "cell_type": "code",
   "execution_count": 20,
   "metadata": {},
   "outputs": [
    {
     "data": {
      "text/plain": [
       "['What is the domain name of someone with the email hello', 'gmail.com']"
      ]
     },
     "execution_count": 20,
     "metadata": {},
     "output_type": "execute_result"
    }
   ],
   "source": [
    "re.split(split_term, phrase)"
   ]
  },
  {
   "cell_type": "markdown",
   "metadata": {},
   "source": [
    "### `re.findall('regex', 'string')`\n",
    "* Returns list of substring matches the regex."
   ]
  },
  {
   "cell_type": "code",
   "execution_count": 21,
   "metadata": {},
   "outputs": [
    {
     "data": {
      "text/plain": [
       "['match', 'match']"
      ]
     },
     "execution_count": 21,
     "metadata": {},
     "output_type": "execute_result"
    }
   ],
   "source": [
    "re.findall('match', 'test phrase match is matching middle')"
   ]
  },
  {
   "cell_type": "code",
   "execution_count": 22,
   "metadata": {},
   "outputs": [],
   "source": [
    "def multi_re_find(patterns, phrase):\n",
    "    for pattern in patterns:\n",
    "        print('Searching for pattern {0} from phrase {1}'.format(pattern, phrase))\n",
    "        print(re.findall(pattern, phrase))\n",
    "        print('\\n')"
   ]
  },
  {
   "cell_type": "markdown",
   "metadata": {},
   "source": [
    "* `*` matches 0 or more characters\n",
    "* `+` matches at least one or more character\n",
    "* `?` means the 0 or 1 character match\n",
    "* For specific number of occurrences use {m} after the pattern, where m is replaced with the number of times the pattern should repeat.\n",
    "* Use {m,n} m is min and n is max number of repetitions. {m,} at least m times no max. "
   ]
  },
  {
   "cell_type": "code",
   "execution_count": 23,
   "metadata": {},
   "outputs": [],
   "source": [
    "test_patterns = ['sd*', # 0 or more d \n",
    "                 'sd+', # 1 or more d\n",
    "                 'sd?', # 0 or 1 d \n",
    "                 'sd{3}',  # 3 d\n",
    "                 'sd{2,3}'] # 2 to 3 d"
   ]
  },
  {
   "cell_type": "code",
   "execution_count": 24,
   "metadata": {},
   "outputs": [],
   "source": [
    "test_phrase = 'sdsd..sssddd...sdddsddd...dsds...dsssss...sdddd'"
   ]
  },
  {
   "cell_type": "code",
   "execution_count": 25,
   "metadata": {},
   "outputs": [
    {
     "name": "stdout",
     "output_type": "stream",
     "text": [
      "Searching for pattern sd* from phrase sdsd..sssddd...sdddsddd...dsds...dsssss...sdddd\n",
      "['sd', 'sd', 's', 's', 'sddd', 'sddd', 'sddd', 'sd', 's', 's', 's', 's', 's', 's', 'sdddd']\n",
      "\n",
      "\n",
      "Searching for pattern sd+ from phrase sdsd..sssddd...sdddsddd...dsds...dsssss...sdddd\n",
      "['sd', 'sd', 'sddd', 'sddd', 'sddd', 'sd', 'sdddd']\n",
      "\n",
      "\n",
      "Searching for pattern sd? from phrase sdsd..sssddd...sdddsddd...dsds...dsssss...sdddd\n",
      "['sd', 'sd', 's', 's', 'sd', 'sd', 'sd', 'sd', 's', 's', 's', 's', 's', 's', 'sd']\n",
      "\n",
      "\n",
      "Searching for pattern sd{3} from phrase sdsd..sssddd...sdddsddd...dsds...dsssss...sdddd\n",
      "['sddd', 'sddd', 'sddd', 'sddd']\n",
      "\n",
      "\n",
      "Searching for pattern sd{2,3} from phrase sdsd..sssddd...sdddsddd...dsds...dsssss...sdddd\n",
      "['sddd', 'sddd', 'sddd', 'sddd']\n",
      "\n",
      "\n"
     ]
    }
   ],
   "source": [
    "multi_re_find(test_patterns, test_phrase)"
   ]
  },
  {
   "cell_type": "markdown",
   "metadata": {},
   "source": [
    "### Chracter set matching"
   ]
  },
  {
   "cell_type": "markdown",
   "metadata": {},
   "source": [
    "* Character set are used when we wish to match any one of a group of characters at a point in a input. Brackets are used to create character set inputs. `[ab]` searches for occurrence of a or b."
   ]
  },
  {
   "cell_type": "code",
   "execution_count": 26,
   "metadata": {},
   "outputs": [],
   "source": [
    "test_patterns = ['[sd]', # s or d\n",
    "                's[sd]+'] #s followed by 1 or more s or d"
   ]
  },
  {
   "cell_type": "code",
   "execution_count": 27,
   "metadata": {},
   "outputs": [
    {
     "name": "stdout",
     "output_type": "stream",
     "text": [
      "Searching for pattern [sd] from phrase sdsd..sssddd...sdddsddd...dsds...dsssss...sdddd\n",
      "['s', 'd', 's', 'd', 's', 's', 's', 'd', 'd', 'd', 's', 'd', 'd', 'd', 's', 'd', 'd', 'd', 'd', 's', 'd', 's', 'd', 's', 's', 's', 's', 's', 's', 'd', 'd', 'd', 'd']\n",
      "\n",
      "\n",
      "Searching for pattern s[sd]+ from phrase sdsd..sssddd...sdddsddd...dsds...dsssss...sdddd\n",
      "['sdsd', 'sssddd', 'sdddsddd', 'sds', 'sssss', 'sdddd']\n",
      "\n",
      "\n"
     ]
    }
   ],
   "source": [
    "multi_re_find(test_patterns, test_phrase)"
   ]
  },
  {
   "cell_type": "markdown",
   "metadata": {},
   "source": [
    "* We can use `^` to exclude terms by incorporating it into the bracket syntax notation.\n",
    "* Use `[^!.? ]` to check for matches that are not a !,. or ? or space. Add + to check that the match appears at least once."
   ]
  },
  {
   "cell_type": "code",
   "execution_count": 28,
   "metadata": {},
   "outputs": [],
   "source": [
    "test_phrase = 'This is a string! But it has punctuation. How can we remove it?'"
   ]
  },
  {
   "cell_type": "code",
   "execution_count": 29,
   "metadata": {},
   "outputs": [
    {
     "name": "stdout",
     "output_type": "stream",
     "text": [
      "['This', 'is', 'a', 'string', 'But', 'it', 'has', 'punctuation', 'How', 'can', 'we', 'remove', 'it'] "
     ]
    }
   ],
   "source": [
    "print(re.findall('[^!.? ]+',test_phrase), end=\" \")"
   ]
  },
  {
   "cell_type": "markdown",
   "metadata": {},
   "source": [
    "### Character range matching\n",
    "* [start-end]\n",
    "* `[a-f]` return matches with any instance of letters between a and f."
   ]
  },
  {
   "cell_type": "code",
   "execution_count": 30,
   "metadata": {},
   "outputs": [],
   "source": [
    "test_phrase = \"This is an example sentence. Lets see if we find some letters.\""
   ]
  },
  {
   "cell_type": "code",
   "execution_count": 31,
   "metadata": {},
   "outputs": [],
   "source": [
    "test_patterns = [ '[a-z]+', # sequence of lower case letters\n",
    "                '[A-Z]+', # sequence of upper case letters\n",
    "                '[a-zA-Z]+', # sequence of lower or upper case letters\n",
    "                '[A-Z][a-z]+'] # uppercase ;etter followed by lowercase letters."
   ]
  },
  {
   "cell_type": "code",
   "execution_count": 32,
   "metadata": {},
   "outputs": [
    {
     "name": "stdout",
     "output_type": "stream",
     "text": [
      "Searching for pattern [a-z]+ from phrase This is an example sentence. Lets see if we find some letters.\n",
      "['his', 'is', 'an', 'example', 'sentence', 'ets', 'see', 'if', 'we', 'find', 'some', 'letters']\n",
      "\n",
      "\n",
      "Searching for pattern [A-Z]+ from phrase This is an example sentence. Lets see if we find some letters.\n",
      "['T', 'L']\n",
      "\n",
      "\n",
      "Searching for pattern [a-zA-Z]+ from phrase This is an example sentence. Lets see if we find some letters.\n",
      "['This', 'is', 'an', 'example', 'sentence', 'Lets', 'see', 'if', 'we', 'find', 'some', 'letters']\n",
      "\n",
      "\n",
      "Searching for pattern [A-Z][a-z]+ from phrase This is an example sentence. Lets see if we find some letters.\n",
      "['This', 'Lets']\n",
      "\n",
      "\n"
     ]
    }
   ],
   "source": [
    "multi_re_find(test_patterns, test_phrase)"
   ]
  },
  {
   "cell_type": "markdown",
   "metadata": {},
   "source": [
    "### Escape codes\n",
    "* Indicated by prefixing the character with \\ . \n",
    "* `\\d` : a digit\n",
    "* `\\D` :  a non digit\n",
    "* `\\s` : whitespace (tab, space, newline)\n",
    "* `\\S` : non whitespace\n",
    "* `\\w` : alphanumeric\n",
    "* `\\W` : non alphanumeric"
   ]
  },
  {
   "cell_type": "code",
   "execution_count": 33,
   "metadata": {},
   "outputs": [],
   "source": [
    "test_phrase = 'This is a string with some numbers 1233 and a symbol #hashtag'\n",
    "test_patterns = [r'\\d+',\n",
    "                r'\\D+',\n",
    "                r'\\s+',\n",
    "                r'\\S+',\n",
    "                r'\\w+',\n",
    "                r'\\W+',]"
   ]
  },
  {
   "cell_type": "code",
   "execution_count": 34,
   "metadata": {},
   "outputs": [
    {
     "name": "stdout",
     "output_type": "stream",
     "text": [
      "Searching for pattern \\d+ from phrase This is a string with some numbers 1233 and a symbol #hashtag\n",
      "['1233']\n",
      "\n",
      "\n",
      "Searching for pattern \\D+ from phrase This is a string with some numbers 1233 and a symbol #hashtag\n",
      "['This is a string with some numbers ', ' and a symbol #hashtag']\n",
      "\n",
      "\n",
      "Searching for pattern \\s+ from phrase This is a string with some numbers 1233 and a symbol #hashtag\n",
      "[' ', ' ', ' ', ' ', ' ', ' ', ' ', ' ', ' ', ' ', ' ']\n",
      "\n",
      "\n",
      "Searching for pattern \\S+ from phrase This is a string with some numbers 1233 and a symbol #hashtag\n",
      "['This', 'is', 'a', 'string', 'with', 'some', 'numbers', '1233', 'and', 'a', 'symbol', '#hashtag']\n",
      "\n",
      "\n",
      "Searching for pattern \\w+ from phrase This is a string with some numbers 1233 and a symbol #hashtag\n",
      "['This', 'is', 'a', 'string', 'with', 'some', 'numbers', '1233', 'and', 'a', 'symbol', 'hashtag']\n",
      "\n",
      "\n",
      "Searching for pattern \\W+ from phrase This is a string with some numbers 1233 and a symbol #hashtag\n",
      "[' ', ' ', ' ', ' ', ' ', ' ', ' ', ' ', ' ', ' ', ' #']\n",
      "\n",
      "\n"
     ]
    }
   ],
   "source": [
    "multi_re_find(test_patterns, test_phrase)"
   ]
  },
  {
   "cell_type": "markdown",
   "metadata": {},
   "source": [
    "### `sub` Substitution\n",
    "* Replaces all occurrence of the RE pattern in string with repl. substitutes all occurrence unless max provided. This method returns modified string."
   ]
  },
  {
   "cell_type": "code",
   "execution_count": 35,
   "metadata": {},
   "outputs": [
    {
     "data": {
      "text/plain": [
       "'2004-959-559 '"
      ]
     },
     "execution_count": 35,
     "metadata": {},
     "output_type": "execute_result"
    }
   ],
   "source": [
    "phone = \"2004-959-559 # this is phone number\"\n",
    "num = re.sub(r\"#.*$\", \"\", phone) # delete python style comment\n",
    "num"
   ]
  },
  {
   "cell_type": "code",
   "execution_count": 36,
   "metadata": {},
   "outputs": [
    {
     "data": {
      "text/plain": [
       "'2004959559'"
      ]
     },
     "execution_count": 36,
     "metadata": {},
     "output_type": "execute_result"
    }
   ],
   "source": [
    "re.sub(r'\\D', \"\", phone) # remove anything other than digits"
   ]
  },
  {
   "cell_type": "markdown",
   "metadata": {},
   "source": [
    "### `finditer`\n",
    "* Returns an iterator over all matches of the pattern in the string."
   ]
  },
  {
   "cell_type": "code",
   "execution_count": 37,
   "metadata": {},
   "outputs": [
    {
     "data": {
      "text/plain": [
       "<callable_iterator at 0x157c0ca0080>"
      ]
     },
     "execution_count": 37,
     "metadata": {},
     "output_type": "execute_result"
    }
   ],
   "source": [
    "re.finditer('match', 'test phrase match is matching middle')"
   ]
  },
  {
   "cell_type": "markdown",
   "metadata": {},
   "source": [
    "### Greedy vs non-greedy matching\n",
    "* `<.*>` greedy repetition. ex it matches `<python>perl>`\n",
    "* `<.*?>` non greedy matches only `<python>` from `<python>perl>`"
   ]
  },
  {
   "cell_type": "markdown",
   "metadata": {},
   "source": [
    "### Backreferences\n",
    "* Matches a previously matched group again.\n",
    "* `([Pp]ython&\\1ails)` match with `python&pails` or `Python&Pails`\n",
    "    - `\\1` meaning match same as previously matched group,\n",
    "* `([\"'])([a-z])[^\\1]*\\2` \n",
    "    - `\\1` match whatever first group match\n",
    "    - `\\2` match whatever second group match"
   ]
  },
  {
   "cell_type": "markdown",
   "metadata": {},
   "source": [
    "* `R(?i)uby` Case-insensitive while matching uby.\n",
    "* `R(?i:uby)` Same as above"
   ]
  },
  {
   "cell_type": "markdown",
   "metadata": {},
   "source": [
    "### Anchors\n",
    "* `Python(?=!)` match \"Python\" if followed by `!`\n",
    "* `Python(?!!)` match \"Python\" if not followed by `!`"
   ]
  },
  {
   "cell_type": "markdown",
   "metadata": {},
   "source": [
    "![regex](images/regex.jpg)\n",
    "![regex](images/regex1.jpg)"
   ]
  }
 ],
 "metadata": {
  "kernelspec": {
   "display_name": "Python 3",
   "language": "python",
   "name": "python3"
  },
  "language_info": {
   "codemirror_mode": {
    "name": "ipython",
    "version": 3
   },
   "file_extension": ".py",
   "mimetype": "text/x-python",
   "name": "python",
   "nbconvert_exporter": "python",
   "pygments_lexer": "ipython3",
   "version": "3.7.1"
  }
 },
 "nbformat": 4,
 "nbformat_minor": 2
}
