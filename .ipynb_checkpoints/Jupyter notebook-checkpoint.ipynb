{
 "cells": [
  {
   "cell_type": "markdown",
   "metadata": {},
   "source": [
    "# Jupyter"
   ]
  },
  {
   "cell_type": "markdown",
   "metadata": {},
   "source": [
    "* Amazing tool for data analysis, where text, code, math equations and images sits in one document.\n",
    "* It is a form of literate programming. In literate programming, documentation is written along side of the code. Eve is the programming language which supports literate programming.\n",
    "\n",
    "### How Jupyter notebook works?\n",
    "![notebook diagram](images/notebook-components.png)"
   ]
  },
  {
   "cell_type": "markdown",
   "metadata": {},
   "source": [
    "- Center point is notebook server. We are connected to server via browser and notebook is rendered as a web app.\n",
    "- Code is sent to the kernel via server. Kernel runs the code and send it back to server. Then any output is rendered back to browser.\n",
    "- Notebook is saved on server as JSON file with extension `.ipynb`\n",
    "- Kernel is a computational engine which executes the code code."
   ]
  },
  {
   "cell_type": "markdown",
   "metadata": {},
   "source": [
    "* Jupyter name comes from Julia, Python, R.\n",
    "* To install jupyter notebook, `conda install jupyter notebook` or `pip install jupyter notebook`.\n",
    "* To start server run `jupyter notebook` in command line."
   ]
  },
  {
   "cell_type": "markdown",
   "metadata": {},
   "source": [
    "* To manage environment we can install nb_conda using `conda install nb_conda`. After doing so we can manage environment from notebook via \"conda\" tab. We can create new environment, update package, install package and export environment."
   ]
  },
  {
   "cell_type": "markdown",
   "metadata": {},
   "source": [
    "### Magic Command\n",
    "* Magic command are preceded with `%` or `%%` for line magic (Operate on single line of input) and cell magic (Operate on multiple line of input) respectively.\n",
    "* `timeit` is used to time how long it takes for function to run.\n"
   ]
  },
  {
   "cell_type": "code",
   "execution_count": 1,
   "metadata": {},
   "outputs": [
    {
     "name": "stdout",
     "output_type": "stream",
     "text": [
      "9.18 ns ± 0.0125 ns per loop (mean ± std. dev. of 7 runs, 100000000 loops each)\n"
     ]
    }
   ],
   "source": [
    "%timeit x = 1"
   ]
  },
  {
   "cell_type": "code",
   "execution_count": 2,
   "metadata": {},
   "outputs": [
    {
     "name": "stdout",
     "output_type": "stream",
     "text": [
      "289 ns ± 1.17 ns per loop (mean ± std. dev. of 7 runs, 1000000 loops each)\n"
     ]
    }
   ],
   "source": [
    "%%timeit\n",
    "for i in range(10):\n",
    "    x = 5"
   ]
  },
  {
   "cell_type": "markdown",
   "metadata": {},
   "source": [
    "### Embedding visualization in notebooks\n",
    "- When we use matplotlib or other plotting package, we can use `%matplotlib` to setup interactive use in notebook.\n",
    "- By default figure will render in its own window.\n",
    "- To render image in notebook use inline backend with `%matplotlib inline`.\n",
    "- For higher resolution image use `%config Inlinebackend.figure_format = 'retina'`\n",
    "* More magic command are [here](https://ipython.readthedocs.io/en/stable/interactive/magics.html)."
   ]
  },
  {
   "cell_type": "markdown",
   "metadata": {},
   "source": [
    "* Jupyter comes with `nbconvert` utility to convert notebook to other format HTML, MarkDown, slideshow.\n",
    "* `jupyter nbconvert --to FORMAT notebook_name.ipynb`\n",
    "* Format can be `html`, `latex`, `pdf`, `slides`.\n",
    "* To designate which cell will be in which slide, View -> Cell Toolbar -> Slideshow\n",
    "* `jupyter nbconvert notebook.ipynb --to slides --post serve` Create slide and immediately open it up."
   ]
  },
  {
   "cell_type": "markdown",
   "metadata": {},
   "source": [
    "### Running script\n",
    "- `%run` will run code from specified script in the same process. `%run script_name.py`\n",
    "- `%run -i script_name.py` Will give access to defined variables of interactive python name space.\n",
    "- `%load script_name.py` will import script in code shell"
   ]
  },
  {
   "cell_type": "code",
   "execution_count": 3,
   "metadata": {
    "scrolled": true
   },
   "outputs": [
    {
     "name": "stdout",
     "output_type": "stream",
     "text": [
      "hello world!!!\n"
     ]
    }
   ],
   "source": [
    "%run myScript.py"
   ]
  },
  {
   "cell_type": "code",
   "execution_count": 4,
   "metadata": {},
   "outputs": [
    {
     "name": "stdout",
     "output_type": "stream",
     "text": [
      "hello world!!!\n"
     ]
    }
   ],
   "source": [
    "# %load myScript.py\n",
    "print(\"hello world!!!\")"
   ]
  },
  {
   "cell_type": "markdown",
   "metadata": {},
   "source": [
    "### `help`"
   ]
  },
  {
   "cell_type": "code",
   "execution_count": 5,
   "metadata": {},
   "outputs": [
    {
     "name": "stdout",
     "output_type": "stream",
     "text": [
      "Help on built-in function len in module builtins:\n",
      "\n",
      "len(obj, /)\n",
      "    Return the number of items in a container.\n",
      "\n"
     ]
    }
   ],
   "source": [
    "help(len)"
   ]
  },
  {
   "cell_type": "code",
   "execution_count": 6,
   "metadata": {},
   "outputs": [],
   "source": [
    "len?"
   ]
  },
  {
   "cell_type": "markdown",
   "metadata": {},
   "source": [
    "### Python introspection\n",
    "* Using `?` before or after variable will display general information about the object like type, value(form), length, DocString"
   ]
  },
  {
   "cell_type": "code",
   "execution_count": 7,
   "metadata": {},
   "outputs": [],
   "source": [
    "x = 5\n",
    "?x"
   ]
  },
  {
   "cell_type": "markdown",
   "metadata": {},
   "source": [
    "- Using `??` will show function's source code if possible."
   ]
  },
  {
   "cell_type": "code",
   "execution_count": 8,
   "metadata": {},
   "outputs": [],
   "source": [
    "def myFunc(x):\n",
    "    print(x)"
   ]
  },
  {
   "cell_type": "code",
   "execution_count": 9,
   "metadata": {},
   "outputs": [
    {
     "name": "stdout",
     "output_type": "stream",
     "text": [
      "Object `myFunc # if ?? does not give source code then most probably object is implemented in other than Python.` not found.\n"
     ]
    }
   ],
   "source": [
    "??myFunc # if ?? does not give source code then most probably object is implemented in other than Python."
   ]
  },
  {
   "cell_type": "markdown",
   "metadata": {},
   "source": [
    "### Wildcard matching"
   ]
  },
  {
   "cell_type": "code",
   "execution_count": 10,
   "metadata": {},
   "outputs": [],
   "source": [
    "*en?"
   ]
  },
  {
   "cell_type": "markdown",
   "metadata": {},
   "source": [
    "* `*` matches any string, including empty string\n",
    "* string method which has find word anywhere."
   ]
  },
  {
   "cell_type": "code",
   "execution_count": 11,
   "metadata": {},
   "outputs": [],
   "source": [
    "str.*find*?"
   ]
  },
  {
   "cell_type": "markdown",
   "metadata": {},
   "source": [
    "### `%paste` `%cpaste`"
   ]
  },
  {
   "cell_type": "markdown",
   "metadata": {},
   "source": [
    "- Copy and paste code in code shell and execute it.\n",
    "- `%paste` takes whatever code in the clipboard and execute as single code block in shell.\n",
    "- `%cpaste` is similar but gives special prompt to copy the code"
   ]
  },
  {
   "cell_type": "markdown",
   "metadata": {},
   "source": [
    "### `%pwd` Print Working Directory\n"
   ]
  },
  {
   "cell_type": "code",
   "execution_count": 12,
   "metadata": {},
   "outputs": [
    {
     "data": {
      "text/plain": [
       "'C:\\\\Users\\\\davep\\\\MY NOTESSSSSSSSSSSSSSSSSSSSSSSSSSSSSSSSSSSSSSSSSSSSSSS\\\\Python'"
      ]
     },
     "execution_count": 12,
     "metadata": {},
     "output_type": "execute_result"
    }
   ],
   "source": [
    "%pwd"
   ]
  },
  {
   "cell_type": "markdown",
   "metadata": {},
   "source": [
    "### `%automagic`\n",
    "* Magic functions can be used by default without `%` sign as  long as no variable is defined with the same name as magic command. This is called automagic and can be enable disable using `%automagic`."
   ]
  },
  {
   "cell_type": "code",
   "execution_count": 13,
   "metadata": {},
   "outputs": [
    {
     "name": "stdout",
     "output_type": "stream",
     "text": [
      "\n",
      "Automagic is OFF, % prefix IS needed for line magics.\n"
     ]
    }
   ],
   "source": [
    "%automagic"
   ]
  },
  {
   "cell_type": "markdown",
   "metadata": {},
   "source": [
    "### `%quickref` `%magic`\n",
    "* To access documentation of jupyter command.\n",
    "\n",
    "### `%lsmagic`\n",
    "* Quick and simple list of all available magic commands.329"
   ]
  },
  {
   "cell_type": "markdown",
   "metadata": {},
   "source": [
    "### `%hist` \n",
    "* Print command input history."
   ]
  },
  {
   "cell_type": "markdown",
   "metadata": {},
   "source": [
    "### `%reset`\n",
    "* Delete all variables/ names defined in namespace,\n",
    "* Reset session"
   ]
  },
  {
   "cell_type": "markdown",
   "metadata": {},
   "source": [
    "### `%page OBJECT`\n",
    "* Pretty print the object and display it through a pager.\n",
    "\n",
    "### `%who`, `%who_ls`, `%whos`\n",
    "* Display variables defined in interactive namespaces, with varying levels of information and verbosity\n",
    "\n",
    "### `%xdel variable`\n",
    "* Delete a variable and clear reference to it."
   ]
  },
  {
   "cell_type": "markdown",
   "metadata": {},
   "source": [
    "### `%matplotlib`\n",
    "* Configures integration of matplotlib with Jupyter.\n",
    "* `%matplot inline` says that I do not want visualization in separate file which can be saved somewhere else, but I want to embed visualization here in Jupyter itself."
   ]
  },
  {
   "cell_type": "markdown",
   "metadata": {},
   "source": [
    "### `%history -p`\n",
    "* Tells what code run in what order and is there any modification in code?\n",
    "* In output,\n",
    "    - `>>>` corresponds to individual code cell."
   ]
  },
  {
   "cell_type": "code",
   "execution_count": 14,
   "metadata": {},
   "outputs": [],
   "source": [
    "%matplotlib inline"
   ]
  },
  {
   "cell_type": "markdown",
   "metadata": {},
   "source": [
    "### Command mode\n",
    "* `S` : save and check point\n",
    "* `Y`: Convert to code cell\n",
    "* `M` : Convert to markdown cell\n",
    "* In command mode holding shift and pressing up or down will select multiple cells. Then `Shift + M` will merge the cell.\n"
   ]
  },
  {
   "cell_type": "markdown",
   "metadata": {},
   "source": [
    "### Edit mode\n",
    "* `shift + tab` : When cursor is within parenthesis of built in function, this will pop up documentation.\n",
    "* `ctrl + shift + -` in edit mode will split the cell at the cursor\n"
   ]
  },
  {
   "cell_type": "markdown",
   "metadata": {},
   "source": [
    "### Running UNIX/Windows command\n",
    "* Anything after `!` will NOT execute by python kernel but it will execute by system command line."
   ]
  },
  {
   "cell_type": "code",
   "execution_count": 15,
   "metadata": {},
   "outputs": [
    {
     "name": "stdout",
     "output_type": "stream",
     "text": [
      " Volume in drive C is OS\n",
      " Volume Serial Number is B4F6-2803\n",
      "\n",
      " Directory of C:\\Users\\davep\\MY NOTESSSSSSSSSSSSSSSSSSSSSSSSSSSSSSSSSSSSSSSSSSSSSSS\\Python\n",
      "\n",
      "01/21/2019  06:38 PM    <DIR>          .\n",
      "01/21/2019  06:38 PM    <DIR>          ..\n",
      "01/20/2019  09:44 AM    <DIR>          .ipynb_checkpoints\n",
      "01/21/2019  12:05 PM            42,402 1 Variable Type Operator.ipynb\n",
      "01/21/2019  12:38 PM            12,936 10 Files.ipynb\n",
      "01/21/2019  12:52 PM             9,988 11 Input Output.ipynb\n",
      "01/21/2019  12:56 PM            20,401 12 Module and Packages.ipynb\n",
      "01/21/2019  01:53 PM            18,480 13 Exception.ipynb\n",
      "01/21/2019  01:17 PM            21,697 2 Conditional  statement and Loop.ipynb\n",
      "01/21/2019  02:22 PM            28,570 3 Function.ipynb\n",
      "01/21/2019  01:44 PM            46,548 4 List.ipynb\n",
      "01/21/2019  03:14 PM            27,285 5 Dictionary.ipynb\n",
      "01/21/2019  03:49 PM            18,108 6 String.ipynb\n",
      "01/21/2019  04:10 PM             6,115 7 Tuple.ipynb\n",
      "01/21/2019  04:11 PM            17,366 8 Set.ipynb\n",
      "01/21/2019  04:35 PM            45,397 9 Class.ipynb\n",
      "01/21/2019  06:36 PM            10,334 Anaconda.ipynb\n",
      "12/18/2018  07:38 AM             1,818 beatles-discography.csv\n",
      "01/21/2019  06:37 PM             9,758 Collection_Module_and_others.ipynb\n",
      "01/14/2019  12:05 AM                79 compressedFile\n",
      "01/21/2019  06:38 PM            24,040 Date and Time.ipynb\n",
      "01/13/2019  09:51 PM                58 emp.pickle\n",
      "01/13/2019  11:53 PM               224 filename\n",
      "01/16/2019  06:18 PM    <DIR>          images\n",
      "01/20/2019  05:57 PM            25,245 JSON Pickle CSV.ipynb\n",
      "01/13/2019  09:41 PM                35 jsonData.txt\n",
      "01/15/2019  01:27 PM            28,936 Jupyter notebook.ipynb\n",
      "12/01/2018  12:01 PM                83 myModule.py\n",
      "11/13/2018  12:04 PM                23 myScript.py\n",
      "01/21/2019  12:37 PM                82 myText.txt\n",
      "01/21/2019  12:11 PM            21,600 Regular_Expressoin.ipynb\n",
      "12/02/2018  08:54 PM             1,323 Special Python Tools.ipynb\n",
      "01/13/2019  09:43 PM             2,403 Web_Scrapping.ipynb\n",
      "01/21/2019  12:53 PM    <DIR>          __pycache__\n",
      "              29 File(s)        441,334 bytes\n",
      "               5 Dir(s)  153,001,398,272 bytes free\n"
     ]
    }
   ],
   "source": [
    "!dir"
   ]
  },
  {
   "cell_type": "markdown",
   "metadata": {},
   "source": [
    "* In the same way we can run other unix and windows commands depends on the system which you are running."
   ]
  },
  {
   "cell_type": "markdown",
   "metadata": {},
   "source": [
    "### `In` `Out`\n",
    "* Ipython actually creates variable named In and Out that are automatically updated to reflect history.\n",
    "* `In` keeps history of all command that I have typed so far.\n",
    "* `Out` is useful when we want to reuse the result of expensive computation"
   ]
  },
  {
   "cell_type": "code",
   "execution_count": 16,
   "metadata": {},
   "outputs": [
    {
     "name": "stdout",
     "output_type": "stream",
     "text": [
      "['', \"get_ipython().run_line_magic('timeit', 'x = 1')\", \"get_ipython().run_cell_magic('timeit', '', 'for i in range(10):\\\\n    x = 5\\\\n')\", \"get_ipython().run_line_magic('run', 'myScript.py')\", '# %load myScript.py\\nprint(\"hello world!!!\")', 'help(len)', \"get_ipython().run_line_magic('pinfo', 'len')\", \"x = 5\\nget_ipython().run_line_magic('pinfo', 'x')\", 'def myFunc(x):\\n    print(x)', \"get_ipython().run_line_magic('pinfo2', 'myFunc # if ?? does not give source code then most probably object is implemented in other than Python.')\", \"get_ipython().run_line_magic('psearch', '*en')\", \"get_ipython().run_line_magic('psearch', 'str.*find*')\", \"get_ipython().run_line_magic('pwd', '')\", \"get_ipython().run_line_magic('automagic', '')\", \"get_ipython().run_line_magic('matplotlib', 'inline')\", \"get_ipython().system('dir')\", 'print(In) # list that keeps track of command in order']\n"
     ]
    }
   ],
   "source": [
    "print(In) # list that keeps track of command in order"
   ]
  },
  {
   "cell_type": "code",
   "execution_count": 17,
   "metadata": {},
   "outputs": [
    {
     "name": "stdout",
     "output_type": "stream",
     "text": [
      "{12: 'C:\\\\Users\\\\davep\\\\MY NOTESSSSSSSSSSSSSSSSSSSSSSSSSSSSSSSSSSSSSSSSSSSSSSS\\\\Python'}\n"
     ]
    }
   ],
   "source": [
    "print(Out) #Dictionary mapping input number to output. None outputs are not included."
   ]
  },
  {
   "cell_type": "markdown",
   "metadata": {},
   "source": [
    "* Short hand of Out[X] is `_X`\n",
    "* If sometime we do not want to store command output or do not want to show output just write `;` at the end of command"
   ]
  },
  {
   "cell_type": "code",
   "execution_count": 18,
   "metadata": {},
   "outputs": [
    {
     "data": {
      "text/plain": [
       "4"
      ]
     },
     "execution_count": 18,
     "metadata": {},
     "output_type": "execute_result"
    }
   ],
   "source": [
    "2*2"
   ]
  },
  {
   "cell_type": "code",
   "execution_count": 19,
   "metadata": {},
   "outputs": [
    {
     "data": {
      "text/plain": [
       "{12: 'C:\\\\Users\\\\davep\\\\MY NOTESSSSSSSSSSSSSSSSSSSSSSSSSSSSSSSSSSSSSSSSSSSSSSS\\\\Python',\n",
       " 18: 4}"
      ]
     },
     "execution_count": 19,
     "metadata": {},
     "output_type": "execute_result"
    }
   ],
   "source": [
    "Out"
   ]
  },
  {
   "cell_type": "code",
   "execution_count": 20,
   "metadata": {},
   "outputs": [],
   "source": [
    "2*3;"
   ]
  },
  {
   "cell_type": "code",
   "execution_count": 21,
   "metadata": {},
   "outputs": [
    {
     "data": {
      "text/plain": [
       "{12: 'C:\\\\Users\\\\davep\\\\MY NOTESSSSSSSSSSSSSSSSSSSSSSSSSSSSSSSSSSSSSSSSSSSSSSS\\\\Python',\n",
       " 18: 4}"
      ]
     },
     "execution_count": 21,
     "metadata": {},
     "output_type": "execute_result"
    }
   ],
   "source": [
    "Out"
   ]
  },
  {
   "cell_type": "markdown",
   "metadata": {},
   "source": [
    "### `%history -n 1-4`\n",
    "* Access batch of previous inputs\n",
    "\n",
    "### `%rerun`\n",
    "* re execute some portion of command hisotry\n",
    "\n",
    "### `%save`\n",
    "* Saves some set of commands history to file.\n",
    "\n",
    "### `%edit`\n",
    "* opens a file editor. Any code you type into the editor will be executed by Jupyter when you exit the editor.\n",
    "\n",
    "### `%%file filename.py`\n",
    "* Create python module called filename.py."
   ]
  },
  {
   "cell_type": "markdown",
   "metadata": {},
   "source": [
    "## Errors and Debugging\n",
    "### `%xmode`\n",
    "* Exception mode\n",
    "* Using it we can change what info is being printed.\n",
    "* It takes single argument, the mode and there are three possibilities: plain, context, verbose.\n",
    "* Default is context. Verbose gives more info and plain less.\n",
    "* `%xmode plain`"
   ]
  },
  {
   "cell_type": "markdown",
   "metadata": {},
   "source": [
    "### `%debug`\n",
    "* Enter interactive debugger at the bottom of the last expression traceback.\n",
    "* We can call it after hitting an exception, it will open interactive debugging prompt at the point of an exception. ipdb (interactive python debugger)prompt lets you express current state of the stack, explore available variable and run python commands.\n",
    "* We can step up or down through the stack and explore the value of variables there.\n",
    "* To quit debugger type `quit` or `q`.\n",
    "* Use `up` to go up on stack trace.\n",
    "* Use `down` to go down on stack trace.\n",
    "* `list` will show current location in file\n",
    "* Use `print` to print variables.\n",
    "* `next` to go next step of program.\n",
    "* Enter to repeat previous command.\n",
    "* To launch debugger automatically whenever exception is raised, use `%pdb` magic command.\n",
    "* `%pdb on`\n",
    "* Using `%run -d myScript.py` will invoke debugger before executing any code from script press s(tep) to enter the script."
   ]
  },
  {
   "cell_type": "code",
   "execution_count": 22,
   "metadata": {},
   "outputs": [],
   "source": [
    "def f(x,y,z = 1):\n",
    "    tmp = x+y\n",
    "    return tmp/z"
   ]
  },
  {
   "cell_type": "code",
   "execution_count": 23,
   "metadata": {},
   "outputs": [
    {
     "ename": "NameError",
     "evalue": "name 'debug' is not defined",
     "output_type": "error",
     "traceback": [
      "\u001b[1;31m---------------------------------------------------------------------------\u001b[0m",
      "\u001b[1;31mNameError\u001b[0m                                 Traceback (most recent call last)",
      "\u001b[1;32m<ipython-input-23-2404e5279307>\u001b[0m in \u001b[0;36m<module>\u001b[1;34m\u001b[0m\n\u001b[1;32m----> 1\u001b[1;33m \u001b[0mdebug\u001b[0m\u001b[1;33m(\u001b[0m\u001b[0mf\u001b[0m\u001b[1;33m,\u001b[0m\u001b[1;36m1\u001b[0m\u001b[1;33m,\u001b[0m\u001b[1;36m2\u001b[0m\u001b[1;33m,\u001b[0m\u001b[1;36m3\u001b[0m\u001b[1;33m)\u001b[0m\u001b[1;33m\u001b[0m\u001b[1;33m\u001b[0m\u001b[0m\n\u001b[0m",
      "\u001b[1;31mNameError\u001b[0m: name 'debug' is not defined"
     ]
    }
   ],
   "source": [
    "debug(f,1,2,3)"
   ]
  },
  {
   "cell_type": "markdown",
   "metadata": {},
   "source": [
    "## Profiling and Timing the code\n",
    "* We can use in built python  module `time`\n",
    "```\n",
    "import time\n",
    "start = time.time()\n",
    "code\n",
    "code\n",
    "code\n",
    "elapsed = time.time() - start\n",
    "```\n",
    "* If command are fast, `%timeit` automatically does a large number of repetitions. For slower commands it will automatically adjust and perform fewer repetitions.\n",
    "* `%timeit sum(range(100))`\n",
    "* To use timeit over multi line code use `%%timeit`\n",
    "* There can be issue because of caching so use `%time`. For example sorting already sorted function and use timeit can cause skew.\n",
    "* `%time` runs only for once.\n",
    "* Setting number of runs(-r) per loop and loops (-n) `%timeit -r2 -n10 print('hello')`\n",
    "\n",
    "#### `cprofile`\n",
    "* Execute program while keeping track of how much time is spent in each function.\n",
    "* `python -m cprofile myScript.py`\n",
    "\n",
    "* `%prun` is used to profile full script/function\n",
    "* For line by line profiling use `%lprun`. To use it install package `pip install line_profiler` After it load the package using `%load_ext line_profiler`\n",
    "* `%lprun -f func_name func_name(arg)` # -f tells I want to profile funciton\n",
    "* `SnakeViz` produce interactive visualization for profile result.\n",
    "### Memory based profiling\n",
    "* how much memory does eachh code takes\n",
    "* `%memit` and `%mprun`\n",
    "* Install using `pip install memory_profiler`. Load using `%load_ext memory_profiler`\n",
    "* `%memit -f funcName funcName(para1, para2, ...)`\n",
    "* For line by line description of memory use, we can use `%mprun`. This only works for function defined in separate module not in notebook itself.\n",
    "* `from filename import funcName`\n",
    "* `%mprun -f funcName funcName(para1, para2, ...)`"
   ]
  },
  {
   "cell_type": "markdown",
   "metadata": {},
   "source": [
    "![system_command](images/system_command.jpg)"
   ]
  },
  {
   "cell_type": "code",
   "execution_count": 1,
   "metadata": {},
   "outputs": [
    {
     "name": "stdout",
     "output_type": "stream",
     "text": [
      "2.9 µs ± 65 ns per loop (mean ± std. dev. of 2 runs, 10 loops each)\n"
     ]
    }
   ],
   "source": [
    "%timeit -r2 -n10 [x**2 for x in range(10)]"
   ]
  },
  {
   "cell_type": "code",
   "execution_count": 9,
   "metadata": {},
   "outputs": [
    {
     "name": "stdout",
     "output_type": "stream",
     "text": [
      "2.79 µs ± 10.4 ns per loop (mean ± std. dev. of 7 runs, 100000 loops each)\n"
     ]
    }
   ],
   "source": [
    "times = %timeit -o [x**2 for x in range(10)]"
   ]
  },
  {
   "cell_type": "code",
   "execution_count": 10,
   "metadata": {},
   "outputs": [
    {
     "data": {
      "text/plain": [
       "<TimeitResult : 2.79 µs ± 10.4 ns per loop (mean ± std. dev. of 7 runs, 100000 loops each)>"
      ]
     },
     "execution_count": 10,
     "metadata": {},
     "output_type": "execute_result"
    }
   ],
   "source": [
    "times"
   ]
  },
  {
   "cell_type": "code",
   "execution_count": 11,
   "metadata": {},
   "outputs": [
    {
     "data": {
      "text/plain": [
       "[2.7966329999998152e-06,\n",
       " 2.7974440000002686e-06,\n",
       " 2.8082590000002484e-06,\n",
       " 2.8057289999998148e-06,\n",
       " 2.783827999999744e-06,\n",
       " 2.7916329999999334e-06,\n",
       " 2.776935999999637e-06]"
      ]
     },
     "execution_count": 11,
     "metadata": {},
     "output_type": "execute_result"
    }
   ],
   "source": [
    "times.timings"
   ]
  },
  {
   "cell_type": "code",
   "execution_count": 12,
   "metadata": {},
   "outputs": [
    {
     "data": {
      "text/plain": [
       "2.776935999999637e-06"
      ]
     },
     "execution_count": 12,
     "metadata": {},
     "output_type": "execute_result"
    }
   ],
   "source": [
    "times.best"
   ]
  },
  {
   "cell_type": "code",
   "execution_count": 13,
   "metadata": {},
   "outputs": [
    {
     "data": {
      "text/plain": [
       "2.8082590000002484e-06"
      ]
     },
     "execution_count": 13,
     "metadata": {},
     "output_type": "execute_result"
    }
   ],
   "source": [
    "times.worst"
   ]
  },
  {
   "cell_type": "code",
   "execution_count": null,
   "metadata": {},
   "outputs": [],
   "source": [
    "# instead ifconfig and grep in windows we use mentioned commands\n",
    "ip_info = !ipconfig | findstr \"IPv4\" "
   ]
  },
  {
   "cell_type": "code",
   "execution_count": 24,
   "metadata": {},
   "outputs": [
    {
     "ename": "NameError",
     "evalue": "name 'ip_info' is not defined",
     "output_type": "error",
     "traceback": [
      "\u001b[1;31m---------------------------------------------------------------------------\u001b[0m",
      "\u001b[1;31mNameError\u001b[0m                                 Traceback (most recent call last)",
      "\u001b[1;32m<ipython-input-24-6f6ce2a3f39c>\u001b[0m in \u001b[0;36m<module>\u001b[1;34m\u001b[0m\n\u001b[1;32m----> 1\u001b[1;33m \u001b[0mip_info\u001b[0m\u001b[1;33m\u001b[0m\u001b[1;33m\u001b[0m\u001b[0m\n\u001b[0m",
      "\u001b[1;31mNameError\u001b[0m: name 'ip_info' is not defined"
     ]
    }
   ],
   "source": [
    "ip_info"
   ]
  },
  {
   "cell_type": "code",
   "execution_count": 25,
   "metadata": {},
   "outputs": [],
   "source": [
    "foo = \"images\""
   ]
  },
  {
   "cell_type": "code",
   "execution_count": 26,
   "metadata": {},
   "outputs": [
    {
     "name": "stdout",
     "output_type": "stream",
     "text": [
      " Volume in drive C is OS\n",
      " Volume Serial Number is B4F6-2803\n",
      "\n",
      " Directory of C:\\Users\\davep\\MY NOTESSSSSSSSSSSSSSSSSSSSSSSSSSSSSSSSSSSSSSSSSSSSSSS\\Python\\images\n",
      "\n",
      "01/16/2019  06:18 PM    <DIR>          .\n",
      "01/16/2019  06:18 PM    <DIR>          ..\n",
      "12/03/2018  07:24 PM           107,577 datetime.JPG\n",
      "12/16/2018  09:23 PM           119,448 date_format.JPG\n",
      "01/14/2019  07:16 PM            61,558 exception_hierarchy.JPG\n",
      "12/02/2018  09:34 PM           148,861 lambda_vs_function.JPG\n",
      "11/12/2018  02:48 PM            30,974 notebook-components.png\n",
      "12/02/2018  08:35 PM            68,400 package_structure.JPG\n",
      "01/15/2019  12:52 AM           111,577 regex.JPG\n",
      "01/15/2019  12:53 AM            91,138 regex1.JPG\n",
      "12/02/2018  08:41 PM            57,990 singleton_as_module.JPG\n",
      "01/15/2019  11:44 AM           172,639 system_command.JPG\n",
      "              10 File(s)        970,162 bytes\n",
      "               2 Dir(s)  153,001,394,176 bytes free\n"
     ]
    }
   ],
   "source": [
    "!dir $foo"
   ]
  },
  {
   "cell_type": "markdown",
   "metadata": {},
   "source": [
    "### `%alias`\n",
    "* Custom shortcuts for shell commands"
   ]
  },
  {
   "cell_type": "code",
   "execution_count": 27,
   "metadata": {},
   "outputs": [],
   "source": [
    "%alias d dir"
   ]
  },
  {
   "cell_type": "code",
   "execution_count": 28,
   "metadata": {},
   "outputs": [
    {
     "ename": "NameError",
     "evalue": "name 'd' is not defined",
     "output_type": "error",
     "traceback": [
      "\u001b[1;31m---------------------------------------------------------------------------\u001b[0m",
      "\u001b[1;31mNameError\u001b[0m                                 Traceback (most recent call last)",
      "\u001b[1;32m<ipython-input-28-e983f374794d>\u001b[0m in \u001b[0;36m<module>\u001b[1;34m\u001b[0m\n\u001b[1;32m----> 1\u001b[1;33m \u001b[0md\u001b[0m\u001b[1;33m\u001b[0m\u001b[1;33m\u001b[0m\u001b[0m\n\u001b[0m",
      "\u001b[1;31mNameError\u001b[0m: name 'd' is not defined"
     ]
    }
   ],
   "source": [
    "d"
   ]
  },
  {
   "cell_type": "markdown",
   "metadata": {},
   "source": [
    "### Directory Bookmark system `%bookmark`\n",
    "* Useful to save common aliasis for directory system so that we can jump easily between directories"
   ]
  },
  {
   "cell_type": "markdown",
   "metadata": {},
   "source": [
    "* `%bookmark small_name Full/Dir/Path`\n",
    "* Now we can use \n",
    "    - cd small_name\n",
    "* Bookmark persist inbetween ipython session, aliasis do not"
   ]
  },
  {
   "cell_type": "code",
   "execution_count": 29,
   "metadata": {},
   "outputs": [
    {
     "name": "stdout",
     "output_type": "stream",
     "text": [
      "Current bookmarks:\n"
     ]
    }
   ],
   "source": [
    " # list all bookmarks\n",
    "%bookmark -l "
   ]
  }
 ],
 "metadata": {
  "kernelspec": {
   "display_name": "Python 3",
   "language": "python",
   "name": "python3"
  },
  "language_info": {
   "codemirror_mode": {
    "name": "ipython",
    "version": 3
   },
   "file_extension": ".py",
   "mimetype": "text/x-python",
   "name": "python",
   "nbconvert_exporter": "python",
   "pygments_lexer": "ipython3",
   "version": "3.7.1"
  }
 },
 "nbformat": 4,
 "nbformat_minor": 2
}
