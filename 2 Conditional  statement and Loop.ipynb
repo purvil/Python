{
 "cells": [
  {
   "cell_type": "markdown",
   "metadata": {},
   "source": [
    "# Conditional  statement and Loop"
   ]
  },
  {
   "cell_type": "markdown",
   "metadata": {},
   "source": [
    "### Conditional statement\n",
    "- `if elif else`"
   ]
  },
  {
   "cell_type": "markdown",
   "metadata": {},
   "source": [
    "### Chaining condition"
   ]
  },
  {
   "cell_type": "code",
   "execution_count": 1,
   "metadata": {},
   "outputs": [
    {
     "data": {
      "text/plain": [
       "True"
      ]
     },
     "execution_count": 1,
     "metadata": {},
     "output_type": "execute_result"
    }
   ],
   "source": [
    "4 > 3 > 2 > 1"
   ]
  },
  {
   "cell_type": "code",
   "execution_count": 2,
   "metadata": {},
   "outputs": [
    {
     "name": "stdout",
     "output_type": "stream",
     "text": [
      "Equal to 5\n"
     ]
    }
   ],
   "source": [
    "x = 5\n",
    "\n",
    "if x < 5:\n",
    "    print(\"Less than 5\")\n",
    "elif x == 5:\n",
    "    print(\"Equal to 5\")\n",
    "else:\n",
    "    print(\"More than 5\")"
   ]
  },
  {
   "cell_type": "markdown",
   "metadata": {},
   "source": [
    "### For loop\n",
    "* Iterate over any sequence, i.e list, tuple, string, set, dictionary"
   ]
  },
  {
   "cell_type": "code",
   "execution_count": 3,
   "metadata": {},
   "outputs": [],
   "source": [
    "word = ['purvil', 'dave', 'shah', 'patel']"
   ]
  },
  {
   "cell_type": "code",
   "execution_count": 4,
   "metadata": {},
   "outputs": [
    {
     "name": "stdout",
     "output_type": "stream",
     "text": [
      "purvil 6\n",
      "dave 4\n",
      "shah 4\n",
      "patel 5\n"
     ]
    }
   ],
   "source": [
    "for w in word:\n",
    "    print(w, len(w))"
   ]
  },
  {
   "cell_type": "markdown",
   "metadata": {},
   "source": [
    "* If you need to modify sequence during iteration first make copy and iterate over it. Iteration over original will not make copy of it.\n",
    "* To make copy we can use `copy()` or slice `[:]` notation."
   ]
  },
  {
   "cell_type": "code",
   "execution_count": 5,
   "metadata": {},
   "outputs": [],
   "source": [
    "for w in word[:]:\n",
    "    if len(w) > 4:\n",
    "        word.insert(0, w)"
   ]
  },
  {
   "cell_type": "code",
   "execution_count": 6,
   "metadata": {},
   "outputs": [
    {
     "data": {
      "text/plain": [
       "['patel', 'purvil', 'purvil', 'dave', 'shah', 'patel']"
      ]
     },
     "execution_count": 6,
     "metadata": {},
     "output_type": "execute_result"
    }
   ],
   "source": [
    "word"
   ]
  },
  {
   "cell_type": "markdown",
   "metadata": {},
   "source": [
    "### while loop"
   ]
  },
  {
   "cell_type": "code",
   "execution_count": 7,
   "metadata": {},
   "outputs": [
    {
     "name": "stdout",
     "output_type": "stream",
     "text": [
      "5\n",
      "3\n",
      "1\n"
     ]
    }
   ],
   "source": [
    "i = 5\n",
    "while i > 0:\n",
    "    print(i)\n",
    "    i -= 2"
   ]
  },
  {
   "cell_type": "markdown",
   "metadata": {},
   "source": [
    "* Also we can iterate while on sequence, if length of sequence is more than 0, condition is True else False."
   ]
  },
  {
   "cell_type": "markdown",
   "metadata": {},
   "source": [
    "### range\n",
    "* To iterate over sequence of number."
   ]
  },
  {
   "cell_type": "code",
   "execution_count": 8,
   "metadata": {},
   "outputs": [
    {
     "name": "stdout",
     "output_type": "stream",
     "text": [
      "0\n",
      "1\n",
      "2\n",
      "3\n",
      "4\n"
     ]
    }
   ],
   "source": [
    "for i in range(5):\n",
    "    print(i)"
   ]
  },
  {
   "cell_type": "code",
   "execution_count": 9,
   "metadata": {},
   "outputs": [
    {
     "data": {
      "text/plain": [
       "[5, 6, 7, 8, 9]"
      ]
     },
     "execution_count": 9,
     "metadata": {},
     "output_type": "execute_result"
    }
   ],
   "source": [
    "list(range(5, 10))"
   ]
  },
  {
   "cell_type": "code",
   "execution_count": 10,
   "metadata": {},
   "outputs": [
    {
     "data": {
      "text/plain": [
       "[0, 3, 6, 9]"
      ]
     },
     "execution_count": 10,
     "metadata": {},
     "output_type": "execute_result"
    }
   ],
   "source": [
    "list(range(0, 10, 3)) # start pos, end pos, step"
   ]
  },
  {
   "cell_type": "code",
   "execution_count": 11,
   "metadata": {},
   "outputs": [
    {
     "data": {
      "text/plain": [
       "[-10, -30, -50, -70, -90]"
      ]
     },
     "execution_count": 11,
     "metadata": {},
     "output_type": "execute_result"
    }
   ],
   "source": [
    "list(range(-10, -100, -20))"
   ]
  },
  {
   "cell_type": "markdown",
   "metadata": {},
   "source": [
    "### Break Continue\n",
    "* `break`, breakout innermost loop.\n",
    "* `continue`, skip current loop and continue with next iteration.\n",
    "\n",
    "### loop and else\n",
    "* else of loop will executed when loop terminate due to exhaustion of list or when condition become False.\n",
    "* It will not executed when loop is terminated by break."
   ]
  },
  {
   "cell_type": "code",
   "execution_count": 12,
   "metadata": {},
   "outputs": [
    {
     "name": "stdout",
     "output_type": "stream",
     "text": [
      "2 is prime\n",
      "3 is prime\n",
      "4 is not prime\n",
      "5 is prime\n",
      "6 is not prime\n",
      "7 is prime\n",
      "8 is not prime\n",
      "9 is not prime\n"
     ]
    }
   ],
   "source": [
    "for n in range(2, 10):\n",
    "    for x in range(2, n):\n",
    "        if n % x == 0:\n",
    "            print(n, \"is not prime\")\n",
    "            break\n",
    "    else:\n",
    "        print(n, \"is prime\")"
   ]
  },
  {
   "cell_type": "markdown",
   "metadata": {},
   "source": [
    "### pass\n",
    "* do nothing. Just a place holder for future development"
   ]
  },
  {
   "cell_type": "markdown",
   "metadata": {},
   "source": [
    "### Generator\n",
    "* All generator are iterator. They are lazily evaluated. Next value in the sequence is computed on demand. Generator resume the execution. It can maintain state in local variable.\n",
    "* Useful for large infinite sequence, sensor reading, mathematical series, massive files.\n",
    "* When we write `for i in some_sequence` python interpreter will create iterator out of sequence.\n",
    "```\n",
    "seq_iterator = iter(some_sequence)\n",
    "```\n",
    "* iterator is any object that will yield objects to the python interpreter when used in context like a loop. Most method expecting list or list like object will also accept any iterable object.\n",
    "* We can get list back from iterator via\n",
    "```\n",
    "list(seq_iterator)\n",
    "```\n",
    "* Generator is concise way of creating new iterable object.\n",
    "* Normal function execute and return single value at a time.\n",
    "* Generator returns a sequence of multiple result lazily, pausing after each one until next one is requested.\n",
    "* To create generator use `yield` instead of `return`. "
   ]
  },
  {
   "cell_type": "code",
   "execution_count": 13,
   "metadata": {},
   "outputs": [],
   "source": [
    "def square(n):\n",
    "    print(\"Generating square from 1 to {0}\".format(n ** 2))\n",
    "    for i in range(1, n + 1):\n",
    "        yield i**2"
   ]
  },
  {
   "cell_type": "code",
   "execution_count": 14,
   "metadata": {},
   "outputs": [],
   "source": [
    "gen = square(5)"
   ]
  },
  {
   "cell_type": "code",
   "execution_count": 15,
   "metadata": {},
   "outputs": [
    {
     "data": {
      "text/plain": [
       "<generator object square at 0x00000190A452B570>"
      ]
     },
     "execution_count": 15,
     "metadata": {},
     "output_type": "execute_result"
    }
   ],
   "source": [
    "gen"
   ]
  },
  {
   "cell_type": "code",
   "execution_count": 16,
   "metadata": {},
   "outputs": [
    {
     "name": "stdout",
     "output_type": "stream",
     "text": [
      "Generating square from 1 to 25\n",
      "1\n",
      "4\n",
      "9\n",
      "16\n",
      "25\n"
     ]
    }
   ],
   "source": [
    "for x in gen:\n",
    "    print(x)"
   ]
  },
  {
   "cell_type": "markdown",
   "metadata": {},
   "source": [
    "### Generator comprehension"
   ]
  },
  {
   "cell_type": "code",
   "execution_count": 17,
   "metadata": {},
   "outputs": [],
   "source": [
    "gen2 = (x ** 2 for x in range(1, 6))"
   ]
  },
  {
   "cell_type": "code",
   "execution_count": 18,
   "metadata": {},
   "outputs": [
    {
     "name": "stdout",
     "output_type": "stream",
     "text": [
      "<generator object <genexpr> at 0x00000190A452B660>\n"
     ]
    }
   ],
   "source": [
    "print(gen2)"
   ]
  },
  {
   "cell_type": "code",
   "execution_count": 19,
   "metadata": {},
   "outputs": [
    {
     "name": "stdout",
     "output_type": "stream",
     "text": [
      "1\n",
      "4\n",
      "9\n",
      "16\n",
      "25\n"
     ]
    }
   ],
   "source": [
    "for i in gen2:\n",
    "    print(i)"
   ]
  },
  {
   "cell_type": "markdown",
   "metadata": {},
   "source": [
    "### `itertools`"
   ]
  },
  {
   "cell_type": "markdown",
   "metadata": {},
   "source": [
    "* [itertools](https://docs.python.org/3/library/itertools.html) is collection of generators for many common data algorithm.\n",
    "### `groupby`\n",
    "* Takes sequence and a function, grouping consecutive elements in the sequence by return value of function"
   ]
  },
  {
   "cell_type": "code",
   "execution_count": 20,
   "metadata": {},
   "outputs": [
    {
     "name": "stdout",
     "output_type": "stream",
     "text": [
      "<itertools.groupby object at 0x00000190A45204C0>\n",
      "[('A', <itertools._grouper object at 0x00000190A456B358>), ('W', <itertools._grouper object at 0x00000190A456B320>), ('A', <itertools._grouper object at 0x00000190A456B400>), ('S', <itertools._grouper object at 0x00000190A456B438>)]\n",
      "A ['Alan', 'Adam']\n",
      "W ['Wes', 'Will']\n",
      "A ['Alberts']\n",
      "S ['Steven']\n"
     ]
    }
   ],
   "source": [
    "import itertools\n",
    "\n",
    "first_letter = lambda x : x[0]\n",
    "\n",
    "names = ['Alan', 'Adam', 'Wes', 'Will', 'Alberts', 'Steven']\n",
    "print(itertools.groupby(names, first_letter))\n",
    "\n",
    "print(list(itertools.groupby(names, first_letter)))\n",
    "\n",
    "for letter, nameGroups in itertools.groupby(names, first_letter):\n",
    "    print(letter, list(nameGroups)) # nameGroups is a generator."
   ]
  },
  {
   "cell_type": "markdown",
   "metadata": {},
   "source": [
    "* Check the answer there are 2 groups for word starting with a. If we need 1 group then use sort before groupby."
   ]
  },
  {
   "cell_type": "markdown",
   "metadata": {},
   "source": [
    "#### `combinations` `permutations`, `product` (Cartesian Product)\n"
   ]
  },
  {
   "cell_type": "code",
   "execution_count": 21,
   "metadata": {},
   "outputs": [],
   "source": [
    "arr1 = [1,2,3,4]\n",
    "arr2 = [5,6]"
   ]
  },
  {
   "cell_type": "code",
   "execution_count": 22,
   "metadata": {},
   "outputs": [
    {
     "data": {
      "text/plain": [
       "[(1, 2), (1, 3), (1, 4), (2, 3), (2, 4), (3, 4)]"
      ]
     },
     "execution_count": 22,
     "metadata": {},
     "output_type": "execute_result"
    }
   ],
   "source": [
    "list(itertools.combinations(arr1,2))"
   ]
  },
  {
   "cell_type": "code",
   "execution_count": 23,
   "metadata": {},
   "outputs": [
    {
     "data": {
      "text/plain": [
       "[(1, 2, 3), (1, 2, 4), (1, 3, 4), (2, 3, 4)]"
      ]
     },
     "execution_count": 23,
     "metadata": {},
     "output_type": "execute_result"
    }
   ],
   "source": [
    "list(itertools.combinations(arr1,3))"
   ]
  },
  {
   "cell_type": "code",
   "execution_count": 24,
   "metadata": {},
   "outputs": [
    {
     "data": {
      "text/plain": [
       "[(1, 2),\n",
       " (1, 3),\n",
       " (1, 4),\n",
       " (2, 1),\n",
       " (2, 3),\n",
       " (2, 4),\n",
       " (3, 1),\n",
       " (3, 2),\n",
       " (3, 4),\n",
       " (4, 1),\n",
       " (4, 2),\n",
       " (4, 3)]"
      ]
     },
     "execution_count": 24,
     "metadata": {},
     "output_type": "execute_result"
    }
   ],
   "source": [
    "list(itertools.permutations(arr1,2))"
   ]
  },
  {
   "cell_type": "code",
   "execution_count": 25,
   "metadata": {},
   "outputs": [
    {
     "data": {
      "text/plain": [
       "[(1, 5), (1, 6), (2, 5), (2, 6), (3, 5), (3, 6), (4, 5), (4, 6)]"
      ]
     },
     "execution_count": 25,
     "metadata": {},
     "output_type": "execute_result"
    }
   ],
   "source": [
    "list(itertools.product(arr1,arr2,repeat=1))"
   ]
  },
  {
   "cell_type": "code",
   "execution_count": 26,
   "metadata": {},
   "outputs": [
    {
     "data": {
      "text/plain": [
       "[(1, 5, 1, 5),\n",
       " (1, 5, 1, 6),\n",
       " (1, 5, 2, 5),\n",
       " (1, 5, 2, 6),\n",
       " (1, 5, 3, 5),\n",
       " (1, 5, 3, 6),\n",
       " (1, 5, 4, 5),\n",
       " (1, 5, 4, 6),\n",
       " (1, 6, 1, 5),\n",
       " (1, 6, 1, 6),\n",
       " (1, 6, 2, 5),\n",
       " (1, 6, 2, 6),\n",
       " (1, 6, 3, 5),\n",
       " (1, 6, 3, 6),\n",
       " (1, 6, 4, 5),\n",
       " (1, 6, 4, 6),\n",
       " (2, 5, 1, 5),\n",
       " (2, 5, 1, 6),\n",
       " (2, 5, 2, 5),\n",
       " (2, 5, 2, 6),\n",
       " (2, 5, 3, 5),\n",
       " (2, 5, 3, 6),\n",
       " (2, 5, 4, 5),\n",
       " (2, 5, 4, 6),\n",
       " (2, 6, 1, 5),\n",
       " (2, 6, 1, 6),\n",
       " (2, 6, 2, 5),\n",
       " (2, 6, 2, 6),\n",
       " (2, 6, 3, 5),\n",
       " (2, 6, 3, 6),\n",
       " (2, 6, 4, 5),\n",
       " (2, 6, 4, 6),\n",
       " (3, 5, 1, 5),\n",
       " (3, 5, 1, 6),\n",
       " (3, 5, 2, 5),\n",
       " (3, 5, 2, 6),\n",
       " (3, 5, 3, 5),\n",
       " (3, 5, 3, 6),\n",
       " (3, 5, 4, 5),\n",
       " (3, 5, 4, 6),\n",
       " (3, 6, 1, 5),\n",
       " (3, 6, 1, 6),\n",
       " (3, 6, 2, 5),\n",
       " (3, 6, 2, 6),\n",
       " (3, 6, 3, 5),\n",
       " (3, 6, 3, 6),\n",
       " (3, 6, 4, 5),\n",
       " (3, 6, 4, 6),\n",
       " (4, 5, 1, 5),\n",
       " (4, 5, 1, 6),\n",
       " (4, 5, 2, 5),\n",
       " (4, 5, 2, 6),\n",
       " (4, 5, 3, 5),\n",
       " (4, 5, 3, 6),\n",
       " (4, 5, 4, 5),\n",
       " (4, 5, 4, 6),\n",
       " (4, 6, 1, 5),\n",
       " (4, 6, 1, 6),\n",
       " (4, 6, 2, 5),\n",
       " (4, 6, 2, 6),\n",
       " (4, 6, 3, 5),\n",
       " (4, 6, 3, 6),\n",
       " (4, 6, 4, 5),\n",
       " (4, 6, 4, 6)]"
      ]
     },
     "execution_count": 26,
     "metadata": {},
     "output_type": "execute_result"
    }
   ],
   "source": [
    "list(itertools.product(arr1,arr2,repeat=2))"
   ]
  },
  {
   "cell_type": "markdown",
   "metadata": {},
   "source": [
    "### `combinations_with_replacement`, `filterfalse`"
   ]
  },
  {
   "cell_type": "code",
   "execution_count": 27,
   "metadata": {},
   "outputs": [
    {
     "data": {
      "text/plain": [
       "[5, 6, 7]"
      ]
     },
     "execution_count": 27,
     "metadata": {},
     "output_type": "execute_result"
    }
   ],
   "source": [
    "data = [3,4,5,6,7]\n",
    "list(itertools.filterfalse(lambda x : x < 5, data))"
   ]
  },
  {
   "cell_type": "markdown",
   "metadata": {},
   "source": [
    "### iterator\n",
    "* We can loop over the object like list, dictionary, string, file connection, range because they are iterable.\n",
    "* Iterable object has associated `iter()` method.\n",
    "* Applying iter to iterable will create iterator.\n",
    "* Iterator object has associated `next()` method that produce consecutive values."
   ]
  },
  {
   "cell_type": "code",
   "execution_count": 28,
   "metadata": {},
   "outputs": [],
   "source": [
    "word = 'dave'\n",
    "it = iter(word)"
   ]
  },
  {
   "cell_type": "code",
   "execution_count": 29,
   "metadata": {},
   "outputs": [
    {
     "data": {
      "text/plain": [
       "'d'"
      ]
     },
     "execution_count": 29,
     "metadata": {},
     "output_type": "execute_result"
    }
   ],
   "source": [
    "next(it)"
   ]
  },
  {
   "cell_type": "code",
   "execution_count": 30,
   "metadata": {},
   "outputs": [
    {
     "data": {
      "text/plain": [
       "'a'"
      ]
     },
     "execution_count": 30,
     "metadata": {},
     "output_type": "execute_result"
    }
   ],
   "source": [
    "next(it)"
   ]
  },
  {
   "cell_type": "code",
   "execution_count": 31,
   "metadata": {},
   "outputs": [
    {
     "data": {
      "text/plain": [
       "'v'"
      ]
     },
     "execution_count": 31,
     "metadata": {},
     "output_type": "execute_result"
    }
   ],
   "source": [
    "next(it)"
   ]
  },
  {
   "cell_type": "code",
   "execution_count": 32,
   "metadata": {},
   "outputs": [
    {
     "data": {
      "text/plain": [
       "'e'"
      ]
     },
     "execution_count": 32,
     "metadata": {},
     "output_type": "execute_result"
    }
   ],
   "source": [
    "next(it)"
   ]
  },
  {
   "cell_type": "code",
   "execution_count": 33,
   "metadata": {},
   "outputs": [
    {
     "ename": "StopIteration",
     "evalue": "",
     "output_type": "error",
     "traceback": [
      "\u001b[1;31m---------------------------------------------------------------------------\u001b[0m",
      "\u001b[1;31mStopIteration\u001b[0m                             Traceback (most recent call last)",
      "\u001b[1;32m<ipython-input-33-bc1ab118995a>\u001b[0m in \u001b[0;36m<module>\u001b[1;34m\u001b[0m\n\u001b[1;32m----> 1\u001b[1;33m \u001b[0mnext\u001b[0m\u001b[1;33m(\u001b[0m\u001b[0mit\u001b[0m\u001b[1;33m)\u001b[0m\u001b[1;33m\u001b[0m\u001b[1;33m\u001b[0m\u001b[0m\n\u001b[0m",
      "\u001b[1;31mStopIteration\u001b[0m: "
     ]
    }
   ],
   "source": [
    "next(it)"
   ]
  },
  {
   "cell_type": "markdown",
   "metadata": {},
   "source": [
    "* We can iterate on entire iterator at once using `*` operator.\n",
    "* It unpack all element of iterator. But it does only once. To get it again we have to define iterator again because there is no more value to iterate."
   ]
  },
  {
   "cell_type": "code",
   "execution_count": 34,
   "metadata": {},
   "outputs": [],
   "source": [
    "word = 'dave'"
   ]
  },
  {
   "cell_type": "code",
   "execution_count": 35,
   "metadata": {},
   "outputs": [],
   "source": [
    "it = iter(word)"
   ]
  },
  {
   "cell_type": "code",
   "execution_count": 36,
   "metadata": {},
   "outputs": [
    {
     "name": "stdout",
     "output_type": "stream",
     "text": [
      "d a v e\n"
     ]
    }
   ],
   "source": [
    "print(*it)"
   ]
  },
  {
   "cell_type": "markdown",
   "metadata": {},
   "source": [
    "* iterable is an object which implements the `__iter__()` method."
   ]
  },
  {
   "cell_type": "markdown",
   "metadata": {},
   "source": [
    "* Iterator is an object which implement iterable protocol\n",
    "    - must implement `__iter__()`\n",
    "    - implement `__next__()`"
   ]
  },
  {
   "cell_type": "code",
   "execution_count": 37,
   "metadata": {},
   "outputs": [],
   "source": [
    "class ExampleIterator:\n",
    "    def __init__(self, d):\n",
    "        self.index = 0\n",
    "        self.data = d\n",
    "    def __iter__(self):\n",
    "        return self\n",
    "    def __next__(self):\n",
    "        if self.index >= len(self.data):\n",
    "            raise StopIteration()\n",
    "        else:\n",
    "            ans = self.data[self.index]\n",
    "            self.index += 1\n",
    "            return ans"
   ]
  },
  {
   "cell_type": "code",
   "execution_count": 38,
   "metadata": {},
   "outputs": [],
   "source": [
    "class ExampleIterable:\n",
    "    def __init__(self):\n",
    "        self.data = [1,2,3]\n",
    "    def __iter__(self):\n",
    "        return ExampleIterator(self.data)"
   ]
  },
  {
   "cell_type": "markdown",
   "metadata": {},
   "source": [
    "#### Extended iterator\n",
    "```\n",
    "iter(callable, sentinel)\n",
    "```\n",
    "\n",
    "* Callable object that takes 0 argument\n",
    "* iteration stops when callable produces sentinel value"
   ]
  },
  {
   "cell_type": "code",
   "execution_count": 39,
   "metadata": {},
   "outputs": [],
   "source": [
    "import datetime\n",
    "i = iter(datetime.datetime.now, None)"
   ]
  },
  {
   "cell_type": "code",
   "execution_count": 40,
   "metadata": {},
   "outputs": [
    {
     "data": {
      "text/plain": [
       "datetime.datetime(2019, 1, 21, 13, 16, 10, 269994)"
      ]
     },
     "execution_count": 40,
     "metadata": {},
     "output_type": "execute_result"
    }
   ],
   "source": [
    "next(i)"
   ]
  },
  {
   "cell_type": "code",
   "execution_count": 41,
   "metadata": {},
   "outputs": [
    {
     "data": {
      "text/plain": [
       "datetime.datetime(2019, 1, 21, 13, 16, 10, 455002)"
      ]
     },
     "execution_count": 41,
     "metadata": {},
     "output_type": "execute_result"
    }
   ],
   "source": [
    "next(i)"
   ]
  },
  {
   "cell_type": "markdown",
   "metadata": {},
   "source": [
    "* This iterator will never terminate as None will never be produced."
   ]
  }
 ],
 "metadata": {
  "kernelspec": {
   "display_name": "Python 3",
   "language": "python",
   "name": "python3"
  },
  "language_info": {
   "codemirror_mode": {
    "name": "ipython",
    "version": 3
   },
   "file_extension": ".py",
   "mimetype": "text/x-python",
   "name": "python",
   "nbconvert_exporter": "python",
   "pygments_lexer": "ipython3",
   "version": "3.7.1"
  }
 },
 "nbformat": 4,
 "nbformat_minor": 2
}
