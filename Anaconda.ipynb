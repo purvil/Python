{
 "cells": [
  {
   "cell_type": "markdown",
   "metadata": {},
   "source": [
    "# Anaconda"
   ]
  },
  {
   "cell_type": "markdown",
   "metadata": {},
   "source": [
    "* Virtual environment lets us separate libraries required by different project. So we can avoid conflicts.\n",
    "* Conda environments allow multiple incompatible versions of the same package to coexist on your system. Environment is simply a file path containing a collection of mutually compatible packages.\n",
    "* Anaconda is distribution of libraries and softwares specifically for data science.\n",
    "* Conda is package, dependency and environment manager. Conda is included in Anaconda. Package manager are used to install, update, remove libraries and other softwares. Another package manager is pip, which is default package manager for python.\n",
    "* Miniconda is small version of Anaconda, which only comes with conda and python.\n",
    "\n",
    "### Creating virtual environment:\n",
    "* Always create new virtual environment for different projects.\n",
    "* To create it, `conda create -n env_name list_of_pkg`. Ex. `conda create -n env_name python=3` This command will install most recent version of python 3. To install specific version we can set `python=3.3`\n",
    "* To activate created environment, \n",
    "    - On Mac, Linux `source activate env_name`\n",
    "    - On windows `activate env_name`\n",
    "* To deactivate created environment, \n",
    "    - On Mac, Linux `source deactivate`\n",
    "    - On Windows, `deactivate`\n",
    "* Removing environment\n",
    "    - `conda env remove --name env_name`\n"
   ]
  },
  {
   "cell_type": "markdown",
   "metadata": {},
   "source": [
    "### Installing new package\n",
    "* To view installed packages, `conda list`\n",
    "    - To particularly search for package use `conda list 'numpy|pandas'`\n",
    "    - To query in other environment use `conda list --name env_name`\n",
    "* To install package `conda install pkg1 pkg2 pkg3`\n",
    "* To install notebook `conda install jupyter notebook`\n",
    "* We can even specify which version of package we want to install, `conda install numpy=1.10`\n",
    "* Even we can specify,\n",
    "    - `conda install 'bar-lib=1.0|1.4*'` install bar-lib of version 1.0 or 1.4*\n",
    "    - `conda install 'bar-lib>=1.3.4,<1.1'` install bar-lib of version more than 1.3.4 or less than 1.1\n",
    "* To upgrade all packages in the default environment,\n",
    "    - `conda upgrade conda`\n",
    "    - `conda upgrade --all`\n",
    "* To uninstall, `conda remove pkg_name`\n",
    "* To update, `conda update pkg_name`\n",
    "* To remove, `conda remove pkg_name`\n",
    "* `conda search pkg_name` list all versions of package which are available under conda.\n",
    "* To install using pip,\n",
    "    - `pip install pkg_name`\n",
    "* To update using pip,\n",
    "    - `pip install --upgrade pkg_name`"
   ]
  },
  {
   "cell_type": "markdown",
   "metadata": {},
   "source": [
    "### Exporting packages of project. Saving and loading environment\n",
    "* Export the package list and include in project file.\n",
    "* This allows other people to load all the dependencies for your code.\n",
    "* We can save such data in YAML(yet another markup language) file. YAML is human friendly data serialization standard for all programming language.\n",
    "* `conda env export > environment.yaml`\n",
    "* To create environment from YAML file, `conda env create -f environment.yaml`. It will create new environment with the same name listed in yaml file.\n",
    "* `pip freeze > requirements.txt`\n",
    "* `pip freeze` which package are currently installed.\n",
    "\n",
    "### Searching for package\n",
    "* If you don't know exact name of package, we can search it, `conda search '*search_phrase*'` Ex. `conda search '*beautifulsoup*'`\n",
    "\n",
    "### Listing environment\n",
    "* `conda env list` will list all environment which has created. * next to environment shows that, environment in which we are right now. Default environment is `root` or `base`.\n",
    "* To remove environment, `conda env remove -n env_name` "
   ]
  },
  {
   "cell_type": "markdown",
   "metadata": {},
   "source": [
    "### virtualenv\n",
    "* `pip install virtualenv`\n",
    "* Creating virtual environment\n",
    "    - `virtualenv <env_name>`\n",
    "    - `virtualenv --python=python2.7 <env_name>`\n",
    "    - `virtualenv -p /usr/bin/python3 v_name`\n",
    "* To activate\n",
    "    - `source /path/to/virtualenv/folder/bin/activate`\n",
    "* To deactivate\n",
    "    - `deactivate`"
   ]
  },
  {
   "cell_type": "markdown",
   "metadata": {},
   "source": [
    "* `conda --version` is used to check current version of conda.\n",
    "* To get help with any conda command use `--help`\n",
    "    - `conda install --help`"
   ]
  },
  {
   "cell_type": "markdown",
   "metadata": {},
   "source": [
    "* During installation we see **\"solving environment ...\"** During this process conda checks whether version which we want to install is compatible with all version of other software currently installed. Also it checks current python version is compatible.\n",
    "    - Suppose foo-lib is available in versions 1.0, 1.1, 1.2, 2.0, 2.1, 2.2, 2.3, 3.0, 3.1 (for your platform and Python version). As a first goal, conda attempts to choose the latest version of foo-lib. However, maybe foo-lib depends on bar-lib, which itself is available in various versions (say 1 through 20 in its versioning scheme). It might be that foo-lib 3.1 is compatible with bar-lib versions 17, 18, and 19; but blob-lib (which is already installed) is compatible only with versions of bar-lib less than 17. Therefore, conda would examine the compatibility of foo-lib 3.0 as a fallback. In this hypothetical, foo-lib 3.0 is compatible with bar-lib 16, so that version is chosen (bar-lib is also updated to the latest compatible version 16 in the same command if an earlier version is currently installed)."
   ]
  },
  {
   "cell_type": "markdown",
   "metadata": {},
   "source": [
    "* Conda uses **semantic versioning** to identify distinct versions of a software package unambiguously.\n",
    "* Under semantic versioning software is labeled with three parts of version identifier. `MAJOR.MINOR.PATCH`. MAJOR version is increased when significant new functionality is added (Ex. API changes). MINOR number increase is just an improvement(still backward compatibility is there, changing optional argument in API). PATCH number changes is used for bug fixes.  "
   ]
  },
  {
   "cell_type": "markdown",
   "metadata": {},
   "source": [
    "### Find dependencies for a package version\n",
    "* `conda info pkg_name=version` will report all available package versions.\n",
    "    - `conda info numpy=1.13.1=py36*` # determine dependency of numpy 1.13.1 on python 3.6.0"
   ]
  },
  {
   "cell_type": "markdown",
   "metadata": {},
   "source": [
    "### Conda channel\n",
    "* it is identifier of a path from which conda package can be obtained. By default we are connected to `main` or `default` channel of anaconda cloud. We can even create our own personal conda channel by creating account at anaconda cloud.\n",
    "* People usually publish package in their own channel, to get that package we need to search for the package in their own channel.\n",
    "    - `conda search --channel channel_name --override-channels --platform linux-64 pkg_name` `--override-channels` is used to avoid search `main` `default` channel. `--platform` is used to specify platform for which you are searching package, if not mentioned default is platform on which you are currently working.\n",
    "* If we know the package name which we want, but not the name of channel in which it resides.\n",
    "    * `anaconda-client` package is useful. Which has `anaconda search pkg_name` command which searches all the channels and all platforms.\n",
    "* `conda-forge` is a wellknown channel.\n",
    "* To install package from specific channel\n",
    "    - `conda install --channel channel_name pkg_name`"
   ]
  },
  {
   "cell_type": "markdown",
   "metadata": {},
   "source": [
    "### Anaconda project\n",
    "* It is compressed directories containing the conda environment specification, URL for downloadable files, source code for commands.\n",
    "* First of all install `anaconda-project` package.\n",
    "* Usually we receive anaconda project in compressed directory with anaconda-project.yml file in it along with source file.\n",
    "* `anaconda-project list-packages` used to check required packages for project\n",
    "* Running `anaconda-project prepare` will create the environment. It will create an `envs/default` directory in your project.\n",
    "* `anaconda-project list-commands` is used to determine available commands. \n",
    "* To run command `anaconda-project run cmd args`\n",
    "* Core of project is YAML file which contains specification of conda packages, commands, downloads that makeup the project."
   ]
  },
  {
   "cell_type": "markdown",
   "metadata": {},
   "source": [
    "#### Create new anaconda-project\n",
    "* Create new directory, `my_directory` and go inside\n",
    "* Initialize anaconda project using `anaconda-project init`\n",
    "* We can edit description of project in `.yml` file, add under tag `description`\n",
    "* Commands are added to projects using the `anaconda-project add-command command`.\n",
    "* `anaconda-project add-packages <package-names>` is used to add packages in project.\n",
    "* `anaconda-project add-download <ENV_VARIABLE> <DOWNLOAD_URL>` is used to add URL of downloads.\n",
    "    - `ENV_VARIABLE` is shell name for the downloaded file\n",
    "* To access environment variable within python script use `os.environ[\"env_name\"]`."
   ]
  }
 ],
 "metadata": {
  "kernelspec": {
   "display_name": "Python 3",
   "language": "python",
   "name": "python3"
  },
  "language_info": {
   "codemirror_mode": {
    "name": "ipython",
    "version": 3
   },
   "file_extension": ".py",
   "mimetype": "text/x-python",
   "name": "python",
   "nbconvert_exporter": "python",
   "pygments_lexer": "ipython3",
   "version": "3.7.1"
  }
 },
 "nbformat": 4,
 "nbformat_minor": 2
}
